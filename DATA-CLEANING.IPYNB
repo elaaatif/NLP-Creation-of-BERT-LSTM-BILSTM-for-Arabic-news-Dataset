{
 "cells": [
  {
   "cell_type": "markdown",
   "metadata": {},
   "source": [
    "*Imports*"
   ]
  },
  {
   "cell_type": "code",
   "execution_count": 160,
   "metadata": {},
   "outputs": [],
   "source": [
    "import pandas as pd\n",
    "import numpy as np\n",
    "from urllib.parse import urlparse\n",
    "import matplotlib.pyplot as plt\n",
    "import seaborn as sns\n",
    "import re"
   ]
  },
  {
   "cell_type": "markdown",
   "metadata": {},
   "source": [
    "*READING FILE*"
   ]
  },
  {
   "cell_type": "code",
   "execution_count": 161,
   "metadata": {},
   "outputs": [],
   "source": [
    "df = pd.read_csv('ARABIC-NEWS-MERGED-CLASS-COLLECTED.csv')"
   ]
  },
  {
   "cell_type": "code",
   "execution_count": 162,
   "metadata": {},
   "outputs": [
    {
     "data": {
      "text/html": [
       "<div>\n",
       "<style scoped>\n",
       "    .dataframe tbody tr th:only-of-type {\n",
       "        vertical-align: middle;\n",
       "    }\n",
       "\n",
       "    .dataframe tbody tr th {\n",
       "        vertical-align: top;\n",
       "    }\n",
       "\n",
       "    .dataframe thead th {\n",
       "        text-align: right;\n",
       "    }\n",
       "</style>\n",
       "<table border=\"1\" class=\"dataframe\">\n",
       "  <thead>\n",
       "    <tr style=\"text-align: right;\">\n",
       "      <th></th>\n",
       "      <th>Title</th>\n",
       "      <th>Label</th>\n",
       "      <th>Topic</th>\n",
       "      <th>Origine</th>\n",
       "      <th>Article_date</th>\n",
       "      <th>Article_content</th>\n",
       "      <th>Article_correction</th>\n",
       "    </tr>\n",
       "  </thead>\n",
       "  <tbody>\n",
       "    <tr>\n",
       "      <th>0</th>\n",
       "      <td>54 عاما في القضاء.. نهاية حزينة لمعركة مقدسي ح...</td>\n",
       "      <td>real</td>\n",
       "      <td>politics</td>\n",
       "      <td>df1</td>\n",
       "      <td>NaN</td>\n",
       "      <td>القدس المحتلة- لن يتمكن المقدسي سامي درويش في ...</td>\n",
       "      <td>NaN</td>\n",
       "    </tr>\n",
       "    <tr>\n",
       "      <th>1</th>\n",
       "      <td>خبراء إيرانيون يشرحون لماذا لا تستعجل طهران با...</td>\n",
       "      <td>real</td>\n",
       "      <td>politics</td>\n",
       "      <td>df1</td>\n",
       "      <td>NaN</td>\n",
       "      <td>طهران- منذ الهجوم الإسرائيلي على القنصلية الإي...</td>\n",
       "      <td>NaN</td>\n",
       "    </tr>\n",
       "    <tr>\n",
       "      <th>2</th>\n",
       "      <td>فلسطيني يقود فريق خبراء بإيطاليا لبناء قضية إب...</td>\n",
       "      <td>real</td>\n",
       "      <td>politics</td>\n",
       "      <td>df1</td>\n",
       "      <td>NaN</td>\n",
       "      <td>غادر المحامي الفلسطيني راجي صوراني قطاع غزة رف...</td>\n",
       "      <td>NaN</td>\n",
       "    </tr>\n",
       "    <tr>\n",
       "      <th>3</th>\n",
       "      <td>مستوطنون يهاجمون قرى نابلس بحماية من جنود الاح...</td>\n",
       "      <td>real</td>\n",
       "      <td>politics</td>\n",
       "      <td>df1</td>\n",
       "      <td>NaN</td>\n",
       "      <td>نابلس- لليوم الثاني على التوالي، تتعرض قرية دو...</td>\n",
       "      <td>NaN</td>\n",
       "    </tr>\n",
       "    <tr>\n",
       "      <th>4</th>\n",
       "      <td>جدل قانوني حول ترشح جاكوب زوما لانتخابات جنوب ...</td>\n",
       "      <td>real</td>\n",
       "      <td>politics</td>\n",
       "      <td>df1</td>\n",
       "      <td>NaN</td>\n",
       "      <td>بريتوريا- تقدمت اللجنة المستقلة للانتخابات في ...</td>\n",
       "      <td>NaN</td>\n",
       "    </tr>\n",
       "  </tbody>\n",
       "</table>\n",
       "</div>"
      ],
      "text/plain": [
       "                                               Title Label     Topic Origine  \\\n",
       "0  54 عاما في القضاء.. نهاية حزينة لمعركة مقدسي ح...  real  politics     df1   \n",
       "1  خبراء إيرانيون يشرحون لماذا لا تستعجل طهران با...  real  politics     df1   \n",
       "2  فلسطيني يقود فريق خبراء بإيطاليا لبناء قضية إب...  real  politics     df1   \n",
       "3  مستوطنون يهاجمون قرى نابلس بحماية من جنود الاح...  real  politics     df1   \n",
       "4  جدل قانوني حول ترشح جاكوب زوما لانتخابات جنوب ...  real  politics     df1   \n",
       "\n",
       "  Article_date                                    Article_content  \\\n",
       "0          NaN  القدس المحتلة- لن يتمكن المقدسي سامي درويش في ...   \n",
       "1          NaN  طهران- منذ الهجوم الإسرائيلي على القنصلية الإي...   \n",
       "2          NaN  غادر المحامي الفلسطيني راجي صوراني قطاع غزة رف...   \n",
       "3          NaN  نابلس- لليوم الثاني على التوالي، تتعرض قرية دو...   \n",
       "4          NaN  بريتوريا- تقدمت اللجنة المستقلة للانتخابات في ...   \n",
       "\n",
       "  Article_correction  \n",
       "0                NaN  \n",
       "1                NaN  \n",
       "2                NaN  \n",
       "3                NaN  \n",
       "4                NaN  "
      ]
     },
     "execution_count": 162,
     "metadata": {},
     "output_type": "execute_result"
    }
   ],
   "source": [
    "df.head()"
   ]
  },
  {
   "cell_type": "code",
   "execution_count": 163,
   "metadata": {},
   "outputs": [
    {
     "data": {
      "text/html": [
       "<div>\n",
       "<style scoped>\n",
       "    .dataframe tbody tr th:only-of-type {\n",
       "        vertical-align: middle;\n",
       "    }\n",
       "\n",
       "    .dataframe tbody tr th {\n",
       "        vertical-align: top;\n",
       "    }\n",
       "\n",
       "    .dataframe thead th {\n",
       "        text-align: right;\n",
       "    }\n",
       "</style>\n",
       "<table border=\"1\" class=\"dataframe\">\n",
       "  <thead>\n",
       "    <tr style=\"text-align: right;\">\n",
       "      <th></th>\n",
       "      <th>Title</th>\n",
       "      <th>Label</th>\n",
       "      <th>Topic</th>\n",
       "      <th>Origine</th>\n",
       "      <th>Article_date</th>\n",
       "      <th>Article_content</th>\n",
       "      <th>Article_correction</th>\n",
       "    </tr>\n",
       "  </thead>\n",
       "  <tbody>\n",
       "    <tr>\n",
       "      <th>count</th>\n",
       "      <td>12032</td>\n",
       "      <td>55149</td>\n",
       "      <td>49037</td>\n",
       "      <td>56055</td>\n",
       "      <td>10618</td>\n",
       "      <td>49973</td>\n",
       "      <td>2465</td>\n",
       "    </tr>\n",
       "    <tr>\n",
       "      <th>unique</th>\n",
       "      <td>7648</td>\n",
       "      <td>12</td>\n",
       "      <td>86</td>\n",
       "      <td>8</td>\n",
       "      <td>5318</td>\n",
       "      <td>12471</td>\n",
       "      <td>2419</td>\n",
       "    </tr>\n",
       "    <tr>\n",
       "      <th>top</th>\n",
       "      <td>اليمن -Yemen حملة COVID-19 vs F19</td>\n",
       "      <td>زائف</td>\n",
       "      <td>رياضة</td>\n",
       "      <td>df3</td>\n",
       "      <td>2024-04-12T01:59:53+03:00</td>\n",
       "      <td>[]</td>\n",
       "      <td>['']</td>\n",
       "    </tr>\n",
       "    <tr>\n",
       "      <th>freq</th>\n",
       "      <td>200</td>\n",
       "      <td>37764</td>\n",
       "      <td>17035</td>\n",
       "      <td>37784</td>\n",
       "      <td>342</td>\n",
       "      <td>150</td>\n",
       "      <td>38</td>\n",
       "    </tr>\n",
       "  </tbody>\n",
       "</table>\n",
       "</div>"
      ],
      "text/plain": [
       "                                    Title  Label  Topic Origine  \\\n",
       "count                               12032  55149  49037   56055   \n",
       "unique                               7648     12     86       8   \n",
       "top     اليمن -Yemen حملة COVID-19 vs F19   زائف  رياضة     df3   \n",
       "freq                                  200  37764  17035   37784   \n",
       "\n",
       "                     Article_date Article_content Article_correction  \n",
       "count                       10618           49973               2465  \n",
       "unique                       5318           12471               2419  \n",
       "top     2024-04-12T01:59:53+03:00              []               ['']  \n",
       "freq                          342             150                 38  "
      ]
     },
     "execution_count": 163,
     "metadata": {},
     "output_type": "execute_result"
    }
   ],
   "source": [
    "df.describe()"
   ]
  },
  {
   "cell_type": "code",
   "execution_count": 164,
   "metadata": {},
   "outputs": [],
   "source": [
    "# Replace empty strings ('[]' and \"['']\") with NaN\n",
    "df['Article_content'] = df['Article_content'].replace(['[]', \"['']\"], np.nan)\n",
    "df['Article_correction'] = df['Article_correction'].replace(['[]', \"['']\"], np.nan)\n"
   ]
  },
  {
   "cell_type": "code",
   "execution_count": 165,
   "metadata": {},
   "outputs": [],
   "source": [
    "# Replace 'df' with the name of your DataFrame if it's different\n",
    "\n",
    "# Check if Article_content contains the specified text\n",
    "df['contains_text'] = df['Article_content'].str.contains('تابع الجزيرة نت على', na=False)\n",
    "\n",
    "# Set Label to 'real' where contains_text is True and Label is nan\n",
    "df.loc[df['contains_text'] & df['Label'].isna(), 'Label'] = 'real'\n",
    "\n",
    "# Drop the temporary column\n",
    "df.drop(columns=['contains_text'], inplace=True)"
   ]
  },
  {
   "cell_type": "code",
   "execution_count": 166,
   "metadata": {},
   "outputs": [
    {
     "name": "stdout",
     "output_type": "stream",
     "text": [
      "Distinct Labels Count:\n",
      " Label\n",
      "زائف         37764\n",
      "fake          9439\n",
      "real          5582\n",
      "مضلل          1268\n",
      "NaN            906\n",
      "صحيح           844\n",
      "زائف جزئي      135\n",
      "رأي             38\n",
      "ساخر            27\n",
      "reel            26\n",
      "اشاعة           12\n",
      "إشاعة           12\n",
      "مفبرك            2\n",
      "Name: count, dtype: int64\n"
     ]
    }
   ],
   "source": [
    "print(\"Distinct Labels Count:\\n\", df['Label'].value_counts(dropna=False))"
   ]
  },
  {
   "cell_type": "code",
   "execution_count": 167,
   "metadata": {},
   "outputs": [
    {
     "data": {
      "text/html": [
       "<div>\n",
       "<style scoped>\n",
       "    .dataframe tbody tr th:only-of-type {\n",
       "        vertical-align: middle;\n",
       "    }\n",
       "\n",
       "    .dataframe tbody tr th {\n",
       "        vertical-align: top;\n",
       "    }\n",
       "\n",
       "    .dataframe thead th {\n",
       "        text-align: right;\n",
       "    }\n",
       "</style>\n",
       "<table border=\"1\" class=\"dataframe\">\n",
       "  <thead>\n",
       "    <tr style=\"text-align: right;\">\n",
       "      <th></th>\n",
       "      <th>Title</th>\n",
       "      <th>Label</th>\n",
       "      <th>Topic</th>\n",
       "      <th>Origine</th>\n",
       "      <th>Article_date</th>\n",
       "      <th>Article_content</th>\n",
       "      <th>Article_correction</th>\n",
       "    </tr>\n",
       "  </thead>\n",
       "  <tbody>\n",
       "    <tr>\n",
       "      <th>count</th>\n",
       "      <td>12032</td>\n",
       "      <td>55149</td>\n",
       "      <td>49037</td>\n",
       "      <td>56055</td>\n",
       "      <td>10618</td>\n",
       "      <td>49823</td>\n",
       "      <td>2418</td>\n",
       "    </tr>\n",
       "    <tr>\n",
       "      <th>unique</th>\n",
       "      <td>7648</td>\n",
       "      <td>12</td>\n",
       "      <td>86</td>\n",
       "      <td>8</td>\n",
       "      <td>5318</td>\n",
       "      <td>12470</td>\n",
       "      <td>2417</td>\n",
       "    </tr>\n",
       "    <tr>\n",
       "      <th>top</th>\n",
       "      <td>اليمن -Yemen حملة COVID-19 vs F19</td>\n",
       "      <td>زائف</td>\n",
       "      <td>رياضة</td>\n",
       "      <td>df3</td>\n",
       "      <td>2024-04-12T01:59:53+03:00</td>\n",
       "      <td>لا صحة لخبر وفاة المدرب البرازيلي جورفان فييرا</td>\n",
       "      <td>['وصل الدين الخارجي لمصر في يونيو 2013، نهاية ...</td>\n",
       "    </tr>\n",
       "    <tr>\n",
       "      <th>freq</th>\n",
       "      <td>200</td>\n",
       "      <td>37764</td>\n",
       "      <td>17035</td>\n",
       "      <td>37784</td>\n",
       "      <td>342</td>\n",
       "      <td>125</td>\n",
       "      <td>2</td>\n",
       "    </tr>\n",
       "  </tbody>\n",
       "</table>\n",
       "</div>"
      ],
      "text/plain": [
       "                                    Title  Label  Topic Origine  \\\n",
       "count                               12032  55149  49037   56055   \n",
       "unique                               7648     12     86       8   \n",
       "top     اليمن -Yemen حملة COVID-19 vs F19   زائف  رياضة     df3   \n",
       "freq                                  200  37764  17035   37784   \n",
       "\n",
       "                     Article_date  \\\n",
       "count                       10618   \n",
       "unique                       5318   \n",
       "top     2024-04-12T01:59:53+03:00   \n",
       "freq                          342   \n",
       "\n",
       "                                       Article_content  \\\n",
       "count                                            49823   \n",
       "unique                                           12470   \n",
       "top     لا صحة لخبر وفاة المدرب البرازيلي جورفان فييرا   \n",
       "freq                                               125   \n",
       "\n",
       "                                       Article_correction  \n",
       "count                                                2418  \n",
       "unique                                               2417  \n",
       "top     ['وصل الدين الخارجي لمصر في يونيو 2013، نهاية ...  \n",
       "freq                                                    2  "
      ]
     },
     "execution_count": 167,
     "metadata": {},
     "output_type": "execute_result"
    }
   ],
   "source": [
    "df.describe()"
   ]
  },
  {
   "cell_type": "code",
   "execution_count": 168,
   "metadata": {},
   "outputs": [
    {
     "data": {
      "text/html": [
       "<div>\n",
       "<style scoped>\n",
       "    .dataframe tbody tr th:only-of-type {\n",
       "        vertical-align: middle;\n",
       "    }\n",
       "\n",
       "    .dataframe tbody tr th {\n",
       "        vertical-align: top;\n",
       "    }\n",
       "\n",
       "    .dataframe thead th {\n",
       "        text-align: right;\n",
       "    }\n",
       "</style>\n",
       "<table border=\"1\" class=\"dataframe\">\n",
       "  <thead>\n",
       "    <tr style=\"text-align: right;\">\n",
       "      <th></th>\n",
       "      <th>Title</th>\n",
       "      <th>Label</th>\n",
       "      <th>Topic</th>\n",
       "      <th>Origine</th>\n",
       "      <th>Article_date</th>\n",
       "      <th>Article_content</th>\n",
       "      <th>Article_correction</th>\n",
       "    </tr>\n",
       "  </thead>\n",
       "  <tbody>\n",
       "    <tr>\n",
       "      <th>0</th>\n",
       "      <td>54 عاما في القضاء.. نهاية حزينة لمعركة مقدسي ح...</td>\n",
       "      <td>real</td>\n",
       "      <td>politics</td>\n",
       "      <td>df1</td>\n",
       "      <td>NaN</td>\n",
       "      <td>القدس المحتلة- لن يتمكن المقدسي سامي درويش في ...</td>\n",
       "      <td>NaN</td>\n",
       "    </tr>\n",
       "    <tr>\n",
       "      <th>1</th>\n",
       "      <td>خبراء إيرانيون يشرحون لماذا لا تستعجل طهران با...</td>\n",
       "      <td>real</td>\n",
       "      <td>politics</td>\n",
       "      <td>df1</td>\n",
       "      <td>NaN</td>\n",
       "      <td>طهران- منذ الهجوم الإسرائيلي على القنصلية الإي...</td>\n",
       "      <td>NaN</td>\n",
       "    </tr>\n",
       "    <tr>\n",
       "      <th>2</th>\n",
       "      <td>فلسطيني يقود فريق خبراء بإيطاليا لبناء قضية إب...</td>\n",
       "      <td>real</td>\n",
       "      <td>politics</td>\n",
       "      <td>df1</td>\n",
       "      <td>NaN</td>\n",
       "      <td>غادر المحامي الفلسطيني راجي صوراني قطاع غزة رف...</td>\n",
       "      <td>NaN</td>\n",
       "    </tr>\n",
       "    <tr>\n",
       "      <th>3</th>\n",
       "      <td>مستوطنون يهاجمون قرى نابلس بحماية من جنود الاح...</td>\n",
       "      <td>real</td>\n",
       "      <td>politics</td>\n",
       "      <td>df1</td>\n",
       "      <td>NaN</td>\n",
       "      <td>نابلس- لليوم الثاني على التوالي، تتعرض قرية دو...</td>\n",
       "      <td>NaN</td>\n",
       "    </tr>\n",
       "    <tr>\n",
       "      <th>4</th>\n",
       "      <td>جدل قانوني حول ترشح جاكوب زوما لانتخابات جنوب ...</td>\n",
       "      <td>real</td>\n",
       "      <td>politics</td>\n",
       "      <td>df1</td>\n",
       "      <td>NaN</td>\n",
       "      <td>بريتوريا- تقدمت اللجنة المستقلة للانتخابات في ...</td>\n",
       "      <td>NaN</td>\n",
       "    </tr>\n",
       "  </tbody>\n",
       "</table>\n",
       "</div>"
      ],
      "text/plain": [
       "                                               Title Label     Topic Origine  \\\n",
       "0  54 عاما في القضاء.. نهاية حزينة لمعركة مقدسي ح...  real  politics     df1   \n",
       "1  خبراء إيرانيون يشرحون لماذا لا تستعجل طهران با...  real  politics     df1   \n",
       "2  فلسطيني يقود فريق خبراء بإيطاليا لبناء قضية إب...  real  politics     df1   \n",
       "3  مستوطنون يهاجمون قرى نابلس بحماية من جنود الاح...  real  politics     df1   \n",
       "4  جدل قانوني حول ترشح جاكوب زوما لانتخابات جنوب ...  real  politics     df1   \n",
       "\n",
       "  Article_date                                    Article_content  \\\n",
       "0          NaN  القدس المحتلة- لن يتمكن المقدسي سامي درويش في ...   \n",
       "1          NaN  طهران- منذ الهجوم الإسرائيلي على القنصلية الإي...   \n",
       "2          NaN  غادر المحامي الفلسطيني راجي صوراني قطاع غزة رف...   \n",
       "3          NaN  نابلس- لليوم الثاني على التوالي، تتعرض قرية دو...   \n",
       "4          NaN  بريتوريا- تقدمت اللجنة المستقلة للانتخابات في ...   \n",
       "\n",
       "  Article_correction  \n",
       "0                NaN  \n",
       "1                NaN  \n",
       "2                NaN  \n",
       "3                NaN  \n",
       "4                NaN  "
      ]
     },
     "execution_count": 168,
     "metadata": {},
     "output_type": "execute_result"
    }
   ],
   "source": [
    "df.head()"
   ]
  },
  {
   "cell_type": "markdown",
   "metadata": {},
   "source": [
    "*ExtractING distinct values*"
   ]
  },
  {
   "cell_type": "code",
   "execution_count": 169,
   "metadata": {},
   "outputs": [
    {
     "name": "stdout",
     "output_type": "stream",
     "text": [
      "Distinct Labels: ['real' 'fake' 'reel' nan 'زائف' 'صحيح' 'اشاعة' 'مضلل' 'مفبرك' 'زائف جزئي'\n",
      " 'ساخر' 'رأي' 'إشاعة']\n"
     ]
    }
   ],
   "source": [
    "#LABEL\n",
    "distinct_Label = df['Label'].unique()\n",
    "print(\"Distinct Labels:\", distinct_Label)"
   ]
  },
  {
   "cell_type": "code",
   "execution_count": 170,
   "metadata": {},
   "outputs": [
    {
     "name": "stdout",
     "output_type": "stream",
     "text": [
      "Distinct Topic: ['politics' 'business' 'culture' 'sport' 'tech' 'opinion' 'turath' 'arts'\n",
      " 'science' 'midan' 'lifestyle' 'family' 'Science and Technology' 'Sport'\n",
      " 'Economic' 'middle-east' 'travel' 'science-and-health' 'entertainment'\n",
      " 'style' 'world' 'Politics' 'Sports' 'Religion' 'Tech' 'Culture' 'Finance'\n",
      " 'Medical' 'Social' 'Economy' 'Technology' 'Science' 'news' 'health'\n",
      " 'Health' 'Other' 'Business' 'أخبار' 'ترفيه' 'تكنولوجيا' 'ثقافة وفن'\n",
      " 'رياضة' 'سياسة' 'صحة' 'موسيقى' 'دينية, سياسي' nan 'سياسي' 'دينية'\n",
      " 'اجتماعية, سياسي' 'زائف' 'مضلل' 'نفسي' 'تنس' 'جهاز' 'رئيس' 'حكومة' 'وباء'\n",
      " 'مباراة' 'تصويت' 'مستشفى' 'شبكة' 'تقنية' 'لعبة' 'علاج' 'برلمان' 'إنترنت'\n",
      " 'انتخابات' 'دواء' 'فريق' 'برمجة' 'قرار' 'ابتكار' 'تحديث' 'ذكاء اصطناعي'\n",
      " 'طب' 'جائزة' 'كرة القدم' 'تغذية' 'مدرب' 'تطبيق' 'صحي' 'قانون' 'مرض'\n",
      " 'بطولة' 'ديمقراطية' 'رياضي']\n"
     ]
    }
   ],
   "source": [
    "#TOPIC\n",
    "distinct_Topic = df['Topic'].unique()\n",
    "print(\"Distinct Topic:\", distinct_Topic)"
   ]
  },
  {
   "cell_type": "markdown",
   "metadata": {},
   "source": [
    "*VISUALISATION OF COLUMNS DISTRIBUTIONS*"
   ]
  },
  {
   "cell_type": "code",
   "execution_count": 171,
   "metadata": {},
   "outputs": [
    {
     "data": {
      "image/png": "[encoded data removed]",
      "text/plain": [
       "<Figure size 400x300 with 1 Axes>"
      ]
     },
     "metadata": {},
     "output_type": "display_data"
    },
    {
     "data": {
      "image/png": "[encoded data removed]",
      "text/plain": [
       "<Figure size 400x300 with 1 Axes>"
      ]
     },
     "metadata": {},
     "output_type": "display_data"
    },
    {
     "data": {
      "image/png": "[encoded data removed]",
      "text/plain": [
       "<Figure size 400x300 with 1 Axes>"
      ]
     },
     "metadata": {},
     "output_type": "display_data"
    },
    {
     "data": {
      "image/png": "[encoded data removed]",
      "text/plain": [
       "<Figure size 400x300 with 1 Axes>"
      ]
     },
     "metadata": {},
     "output_type": "display_data"
    },
    {
     "data": {
      "image/png": "[encoded data removed]",
      "text/plain": [
       "<Figure size 400x300 with 1 Axes>"
      ]
     },
     "metadata": {},
     "output_type": "display_data"
    },
    {
     "data": {
      "image/png": "[encoded data removed]",
      "text/plain": [
       "<Figure size 400x300 with 1 Axes>"
      ]
     },
     "metadata": {},
     "output_type": "display_data"
    },
    {
     "data": {
      "image/png": "[encoded data removed]",
      "text/plain": [
       "<Figure size 400x300 with 1 Axes>"
      ]
     },
     "metadata": {},
     "output_type": "display_data"
    }
   ],
   "source": [
    "# Plot the statistics for each column\n",
    "for column in df.columns:\n",
    "    nan_count = df[column].isna().sum()\n",
    "    plt.figure(figsize=(4, 3))\n",
    "    plt.bar(column, nan_count)\n",
    "    plt.title(f'Number of NaN or Empty Values in {column}')\n",
    "    plt.xlabel('Column')\n",
    "    plt.ylabel('Count')\n",
    "    plt.xticks(rotation=45)\n",
    "    plt.tight_layout()\n",
    "    plt.show()"
   ]
  },
  {
   "cell_type": "markdown",
   "metadata": {},
   "source": [
    "*UNIFYING THE LABEL VALUES*"
   ]
  },
  {
   "cell_type": "code",
   "execution_count": 172,
   "metadata": {},
   "outputs": [],
   "source": [
    "# Map 'صحيح' to 'True' and all other values to 'Fake', keeping 'nan' as is\n",
    "legitimacy_mapping = {\n",
    "    'صحيح': 'real',\n",
    "    'اشاعة': 'fake',\n",
    "    'مضلل': 'fake',\n",
    "    'زائف': 'fake',\n",
    "    'مفبرك': 'fake',\n",
    "    'زائف جزئي': 'fake',\n",
    "    'ساخر': 'fake',\n",
    "    'رأي': 'fake',\n",
    "    'reel' : 'real',\n",
    "    'real' : 'real',\n",
    "    'fake' : 'fake',\n",
    "}\n",
    "\n",
    "# Map legitimacy values\n",
    "df['Label'] = df['Label'].map(legitimacy_mapping)"
   ]
  },
  {
   "cell_type": "code",
   "execution_count": 173,
   "metadata": {},
   "outputs": [
    {
     "name": "stdout",
     "output_type": "stream",
     "text": [
      "Distinct Labels: ['real' 'fake' nan]\n"
     ]
    }
   ],
   "source": [
    "#LABEL\n",
    "distinct_Label = df['Label'].unique()\n",
    "print(\"Distinct Labels:\", distinct_Label)"
   ]
  },
  {
   "cell_type": "code",
   "execution_count": 174,
   "metadata": {},
   "outputs": [
    {
     "name": "stdout",
     "output_type": "stream",
     "text": [
      "Distinct Labels Count:\n",
      " Label\n",
      "fake    48685\n",
      "real     6452\n",
      "NaN       918\n",
      "Name: count, dtype: int64\n"
     ]
    }
   ],
   "source": [
    "\n",
    "print(\"Distinct Labels Count:\\n\", df['Label'].value_counts(dropna=False))"
   ]
  },
  {
   "cell_type": "markdown",
   "metadata": {},
   "source": [
    "*UNIFYING THE TOPIC VALUES*"
   ]
  },
  {
   "cell_type": "code",
   "execution_count": 175,
   "metadata": {},
   "outputs": [],
   "source": [
    "# Define a dictionary to map distinct topics to unified categories\n",
    "topic_map = {\n",
    "    'politics': 'politics',\n",
    "    'business': 'business',\n",
    "    'culture': 'culture',\n",
    "    'sport': 'sport',\n",
    "    'tech': 'technology',\n",
    "    'opinion': 'opinion',\n",
    "    'turath': 'culture',\n",
    "    'arts': 'culture',\n",
    "    'science': 'science',\n",
    "    'midan': 'politics',\n",
    "    'lifestyle': 'lifestyle',\n",
    "    'family': 'lifestyle',\n",
    "    'science and technology': 'science',\n",
    "    'economic': 'business',\n",
    "    'middle-east': 'world',\n",
    "    'travel': 'lifestyle',\n",
    "    'science-and-health': 'science',\n",
    "    'entertainment': 'entertainment',\n",
    "    'style': 'lifestyle',\n",
    "    'world': 'world',\n",
    "    'religion': 'culture',\n",
    "    'finance': 'business',\n",
    "    'medical': 'science',\n",
    "    'social': 'lifestyle',\n",
    "    'economy': 'business',\n",
    "    'news': 'world',\n",
    "    'health': 'science',\n",
    "    'other': 'other',\n",
    "    'أخبار': 'world',\n",
    "    'ترفيه': 'entertainment',\n",
    "    'تكنولوجيا': 'technology',\n",
    "    'ثقافة وفن': 'culture',\n",
    "    'رياضة': 'sport',\n",
    "    'سياسة': 'politics',\n",
    "    'صحة': 'science',\n",
    "    'موسيقى': 'entertainment',\n",
    "    'دينية, سياسي': 'religion',\n",
    "    'سياسي': 'politics',\n",
    "    'دينية': 'religion',\n",
    "    'اجتماعية, سياسي': 'politics',\n",
    "    'زائف': 'other',\n",
    "    'مضلل': 'other',\n",
    "    'نفسي': 'other',\n",
    "    'تنس': 'sport',\n",
    "    'جهاز': 'technology',\n",
    "    'رئيس': 'politics',\n",
    "    'حكومة': 'politics',\n",
    "    'وباء': 'science',\n",
    "    'مباراة': 'sport',\n",
    "    'تصويت': 'politics',\n",
    "    'مستشفى': 'health',\n",
    "    'شبكة': 'technology',\n",
    "    'لعبة': 'entertainment',\n",
    "    'علاج': 'health',\n",
    "    'برلمان': 'politics',\n",
    "    'إنترنت': 'technology',\n",
    "    'انتخابات': 'politics',\n",
    "    'دواء': 'health',\n",
    "    'فريق': 'sport',\n",
    "    'برمجة': 'technology',\n",
    "    'قرار': 'politics',\n",
    "    'ابتكار': 'technology',\n",
    "    'تحديث': 'technology',\n",
    "    'ذكاء اصطناعي': 'technology',\n",
    "    'طب': 'health',\n",
    "    'جائزة': 'other',\n",
    "    'كرة القدم': 'sport',\n",
    "    'تغذية': 'health',\n",
    "    'مدرب': 'sport',\n",
    "    'تطبيق': 'technology',\n",
    "    'صحي': 'health',\n",
    "    'قانون': 'politics',\n",
    "    'مرض': 'health',\n",
    "    'بطولة': 'sport',\n",
    "    'ديمقراطية': 'politics',\n",
    "    'رياضي': 'sport',\n",
    "}\n",
    "\n",
    "# Map TOPIC values\n",
    "df['Topic'] = df['Topic'].map(topic_map)\n"
   ]
  },
  {
   "cell_type": "code",
   "execution_count": 176,
   "metadata": {},
   "outputs": [
    {
     "name": "stdout",
     "output_type": "stream",
     "text": [
      "Distinct Topic: ['politics' 'business' 'culture' 'sport' 'technology' 'opinion' 'science'\n",
      " 'lifestyle' nan 'world' 'entertainment' 'religion' 'other' 'health']\n"
     ]
    }
   ],
   "source": [
    "#TOPIC\n",
    "distinct_Topic = df['Topic'].unique()\n",
    "print(\"Distinct Topic:\", distinct_Topic)"
   ]
  },
  {
   "cell_type": "code",
   "execution_count": 177,
   "metadata": {},
   "outputs": [
    {
     "data": {
      "image/png": "[encoded data removed]",
      "text/plain": [
       "<Figure size 500x500 with 1 Axes>"
      ]
     },
     "metadata": {},
     "output_type": "display_data"
    }
   ],
   "source": [
    "# Assuming distinct_Topic contains the unique topics\n",
    "distinct_Topic = df['Topic'].unique()\n",
    "\n",
    "# Count the occurrences of each topic in the DataFrame\n",
    "topic_counts = df['Topic'].value_counts()\n",
    "\n",
    "# Create a color palette with pastel colors\n",
    "pastel_colors = sns.color_palette(\"pastel\", len(topic_counts))\n",
    "\n",
    "# Create a doughnut chart\n",
    "plt.figure(figsize=(5, 5))\n",
    "plt.pie(topic_counts, labels=topic_counts.index, autopct='%1.1f%%', startangle=90,colors=pastel_colors)\n",
    "centre_circle = plt.Circle((0,0),0.70,fc='white')\n",
    "fig = plt.gcf()\n",
    "fig.gca().add_artist(centre_circle)\n",
    "\n",
    "plt.legend(loc=\"lower center\", bbox_to_anchor=(2, -0.05), fancybox=True, shadow=True, ncol=5)\n",
    "\n",
    "plt.title('Distribution of Topics')\n",
    "plt.axis('equal')\n",
    "plt.show()"
   ]
  },
  {
   "cell_type": "markdown",
   "metadata": {},
   "source": [
    "*HANDELING THE MISSING VALUES FOR EACH COLUMN/LINE*"
   ]
  },
  {
   "cell_type": "code",
   "execution_count": 178,
   "metadata": {},
   "outputs": [],
   "source": [
    "# Define a function to clean Arabic text\n",
    "def clean_arabic_text(text):\n",
    "    # Remove links\n",
    "    text = re.sub(r'http\\S+', '', text)\n",
    "    # Remove emojis\n",
    "    text = re.sub(r'[\\U00010000-\\U0010ffff]', '', text)\n",
    "    # Remove URLs\n",
    "    text = re.sub(r'www\\.\\S+|https?://\\S+', '', text)\n",
    "    # Remove HTML tags\n",
    "    text = re.sub(r'<.*?>', '', text)\n",
    "    # Remove unnecessary spaces\n",
    "    text = ' '.join(text.split())\n",
    "    return text\n",
    "\n",
    "# Apply the cleaning function to the 'Article_content' & 'Article_correction' columns\n",
    "df['Article_content_cleaned'] = df['Article_content'].astype(str).apply(clean_arabic_text)\n",
    "df['Article_correction_cleaned'] = df['Article_correction'].astype(str).apply(clean_arabic_text)"
   ]
  },
  {
   "cell_type": "markdown",
   "metadata": {},
   "source": [
    "*PRINTING THE Article_content COLUMN TO CHECK THE TEXT CLEANING*"
   ]
  },
  {
   "cell_type": "code",
   "execution_count": 179,
   "metadata": {},
   "outputs": [
    {
     "name": "stdout",
     "output_type": "stream",
     "text": [
      "0    القدس المحتلة- لن يتمكن المقدسي سامي درويش في ...\n",
      "1    طهران- منذ الهجوم الإسرائيلي على القنصلية الإي...\n",
      "2    غادر المحامي الفلسطيني راجي صوراني قطاع غزة رف...\n",
      "3    نابلس- لليوم الثاني على التوالي، تتعرض قرية دو...\n",
      "4    بريتوريا- تقدمت اللجنة المستقلة للانتخابات في ...\n",
      "5    يرى الخبير العسكري والإستراتيجي العقيد ركن حات...\n",
      "6    بغداد- في خطوة مفاجئة وخلال أيام عيد الفطر، أع...\n",
      "7    تركز كثير من انتقادات الغرب لإسرائيل على رئيس ...\n",
      "8    لومي- في تطور سياسي مثير تشهده جمهورية توغو، ق...\n",
      "9    بعد عام من القتال الذي اندلع في العاصمة السودا...\n",
      "Name: Article_content_cleaned, dtype: object\n"
     ]
    }
   ],
   "source": [
    "# Set display options to show entire text - ENABLE IF YOU WANT TO DISPLAY ENTIRE TEXT\n",
    "#pd.set_option('display.max_colwidth', None)\n",
    "\n",
    "filtered_df = df[df['Article_content_cleaned'].notnull()]\n",
    "\n",
    "# Print the first 10 rows of the 'Article_content' column where it is not NaN\n",
    "print(filtered_df['Article_content_cleaned'].head(10))"
   ]
  },
  {
   "cell_type": "code",
   "execution_count": 180,
   "metadata": {},
   "outputs": [
    {
     "data": {
      "text/html": [
       "<div>\n",
       "<style scoped>\n",
       "    .dataframe tbody tr th:only-of-type {\n",
       "        vertical-align: middle;\n",
       "    }\n",
       "\n",
       "    .dataframe tbody tr th {\n",
       "        vertical-align: top;\n",
       "    }\n",
       "\n",
       "    .dataframe thead th {\n",
       "        text-align: right;\n",
       "    }\n",
       "</style>\n",
       "<table border=\"1\" class=\"dataframe\">\n",
       "  <thead>\n",
       "    <tr style=\"text-align: right;\">\n",
       "      <th></th>\n",
       "      <th>Title</th>\n",
       "      <th>Label</th>\n",
       "      <th>Topic</th>\n",
       "      <th>Origine</th>\n",
       "      <th>Article_date</th>\n",
       "      <th>Article_content</th>\n",
       "      <th>Article_correction</th>\n",
       "      <th>Article_content_cleaned</th>\n",
       "      <th>Article_correction_cleaned</th>\n",
       "    </tr>\n",
       "  </thead>\n",
       "  <tbody>\n",
       "    <tr>\n",
       "      <th>0</th>\n",
       "      <td>54 عاما في القضاء.. نهاية حزينة لمعركة مقدسي ح...</td>\n",
       "      <td>real</td>\n",
       "      <td>politics</td>\n",
       "      <td>df1</td>\n",
       "      <td>NaN</td>\n",
       "      <td>القدس المحتلة- لن يتمكن المقدسي سامي درويش في ...</td>\n",
       "      <td>NaN</td>\n",
       "      <td>القدس المحتلة- لن يتمكن المقدسي سامي درويش في ...</td>\n",
       "      <td>nan</td>\n",
       "    </tr>\n",
       "    <tr>\n",
       "      <th>1</th>\n",
       "      <td>خبراء إيرانيون يشرحون لماذا لا تستعجل طهران با...</td>\n",
       "      <td>real</td>\n",
       "      <td>politics</td>\n",
       "      <td>df1</td>\n",
       "      <td>NaN</td>\n",
       "      <td>طهران- منذ الهجوم الإسرائيلي على القنصلية الإي...</td>\n",
       "      <td>NaN</td>\n",
       "      <td>طهران- منذ الهجوم الإسرائيلي على القنصلية الإي...</td>\n",
       "      <td>nan</td>\n",
       "    </tr>\n",
       "    <tr>\n",
       "      <th>2</th>\n",
       "      <td>فلسطيني يقود فريق خبراء بإيطاليا لبناء قضية إب...</td>\n",
       "      <td>real</td>\n",
       "      <td>politics</td>\n",
       "      <td>df1</td>\n",
       "      <td>NaN</td>\n",
       "      <td>غادر المحامي الفلسطيني راجي صوراني قطاع غزة رف...</td>\n",
       "      <td>NaN</td>\n",
       "      <td>غادر المحامي الفلسطيني راجي صوراني قطاع غزة رف...</td>\n",
       "      <td>nan</td>\n",
       "    </tr>\n",
       "    <tr>\n",
       "      <th>3</th>\n",
       "      <td>مستوطنون يهاجمون قرى نابلس بحماية من جنود الاح...</td>\n",
       "      <td>real</td>\n",
       "      <td>politics</td>\n",
       "      <td>df1</td>\n",
       "      <td>NaN</td>\n",
       "      <td>نابلس- لليوم الثاني على التوالي، تتعرض قرية دو...</td>\n",
       "      <td>NaN</td>\n",
       "      <td>نابلس- لليوم الثاني على التوالي، تتعرض قرية دو...</td>\n",
       "      <td>nan</td>\n",
       "    </tr>\n",
       "    <tr>\n",
       "      <th>4</th>\n",
       "      <td>جدل قانوني حول ترشح جاكوب زوما لانتخابات جنوب ...</td>\n",
       "      <td>real</td>\n",
       "      <td>politics</td>\n",
       "      <td>df1</td>\n",
       "      <td>NaN</td>\n",
       "      <td>بريتوريا- تقدمت اللجنة المستقلة للانتخابات في ...</td>\n",
       "      <td>NaN</td>\n",
       "      <td>بريتوريا- تقدمت اللجنة المستقلة للانتخابات في ...</td>\n",
       "      <td>nan</td>\n",
       "    </tr>\n",
       "  </tbody>\n",
       "</table>\n",
       "</div>"
      ],
      "text/plain": [
       "                                               Title Label     Topic Origine  \\\n",
       "0  54 عاما في القضاء.. نهاية حزينة لمعركة مقدسي ح...  real  politics     df1   \n",
       "1  خبراء إيرانيون يشرحون لماذا لا تستعجل طهران با...  real  politics     df1   \n",
       "2  فلسطيني يقود فريق خبراء بإيطاليا لبناء قضية إب...  real  politics     df1   \n",
       "3  مستوطنون يهاجمون قرى نابلس بحماية من جنود الاح...  real  politics     df1   \n",
       "4  جدل قانوني حول ترشح جاكوب زوما لانتخابات جنوب ...  real  politics     df1   \n",
       "\n",
       "  Article_date                                    Article_content  \\\n",
       "0          NaN  القدس المحتلة- لن يتمكن المقدسي سامي درويش في ...   \n",
       "1          NaN  طهران- منذ الهجوم الإسرائيلي على القنصلية الإي...   \n",
       "2          NaN  غادر المحامي الفلسطيني راجي صوراني قطاع غزة رف...   \n",
       "3          NaN  نابلس- لليوم الثاني على التوالي، تتعرض قرية دو...   \n",
       "4          NaN  بريتوريا- تقدمت اللجنة المستقلة للانتخابات في ...   \n",
       "\n",
       "  Article_correction                            Article_content_cleaned  \\\n",
       "0                NaN  القدس المحتلة- لن يتمكن المقدسي سامي درويش في ...   \n",
       "1                NaN  طهران- منذ الهجوم الإسرائيلي على القنصلية الإي...   \n",
       "2                NaN  غادر المحامي الفلسطيني راجي صوراني قطاع غزة رف...   \n",
       "3                NaN  نابلس- لليوم الثاني على التوالي، تتعرض قرية دو...   \n",
       "4                NaN  بريتوريا- تقدمت اللجنة المستقلة للانتخابات في ...   \n",
       "\n",
       "  Article_correction_cleaned  \n",
       "0                        nan  \n",
       "1                        nan  \n",
       "2                        nan  \n",
       "3                        nan  \n",
       "4                        nan  "
      ]
     },
     "execution_count": 180,
     "metadata": {},
     "output_type": "execute_result"
    }
   ],
   "source": [
    "#pd.set_option('display.max_colwidth', 50)\n",
    "df.head() "
   ]
  },
  {
   "cell_type": "markdown",
   "metadata": {},
   "source": [
    "*DATA AUGMENTATION*"
   ]
  },
  {
   "cell_type": "markdown",
   "metadata": {},
   "source": [
    "### DO NOT EXECUTE THIS "
   ]
  },
  {
   "cell_type": "code",
   "execution_count": 181,
   "metadata": {},
   "outputs": [
    {
     "data": {
      "text/plain": [
       "\" \\nfrom googletrans import Translator  # for back translation (requires installation)\\n\\n\\n# Function for back translation using Google Translate\\ndef back_translate(text, src_lang='ar', dest_lang='en'):\\n    translator = Translator()\\n    translation = translator.translate(text, src=src_lang, dest=dest_lang)\\n    back_translation = translator.translate(translation.text, src=dest_lang, dest=src_lang)\\n    return back_translation.text\\n\\n# Function for data augmentation\\ndef augment_data(df):\\n    augmented_data = []\\n\\n    for index, row in df.iterrows():\\n        # Original data\\n        original_text = row['Article_content']\\n        original_topic = row['Topic']\\n        original_label = row['Label']\\n\\n        # Augment the data\\n        # Example: back translation\\n        augmented_text = back_translate(original_text, src_lang='ar', dest_lang='en')\\n        augmented_topic = original_topic  # You can apply augmentation techniques for topics as well\\n        augmented_label = original_label  # Label can be changed to 'fake' for augmented data\\n\\n        # Append the augmented data to the list\\n        augmented_data.append({\\n            'Title': row['Title'],\\n            'Label': augmented_label,\\n            'Topic': augmented_topic,\\n            'Origine': row['Origine'],\\n            'Article_date': row['Article_date'],\\n            'Article_content': augmented_text,\\n            'Article_correction': row['Article_correction']\\n        })\\n\\n    return pd.DataFrame(augmented_data)\\n\\n# Augment the data\\naugmented_df = augment_data(df)\\n\\n# Concatenate original and augmented data\\ncombined_df = pd.concat([df, augmented_df], ignore_index=True)\\n\\n# Shuffle the combined DataFrame\\ncombined_df = combined_df.sample(frac=1).reset_index(drop=True)\\n\\n# Print the combined DataFrame\\nprint(combined_df)\\n\""
      ]
     },
     "execution_count": 181,
     "metadata": {},
     "output_type": "execute_result"
    }
   ],
   "source": [
    "\"\"\" \n",
    "from googletrans import Translator  # for back translation (requires installation)\n",
    "\n",
    "\n",
    "# Function for back translation using Google Translate\n",
    "def back_translate(text, src_lang='ar', dest_lang='en'):\n",
    "    translator = Translator()\n",
    "    translation = translator.translate(text, src=src_lang, dest=dest_lang)\n",
    "    back_translation = translator.translate(translation.text, src=dest_lang, dest=src_lang)\n",
    "    return back_translation.text\n",
    "\n",
    "# Function for data augmentation\n",
    "def augment_data(df):\n",
    "    augmented_data = []\n",
    "\n",
    "    for index, row in df.iterrows():\n",
    "        # Original data\n",
    "        original_text = row['Article_content']\n",
    "        original_topic = row['Topic']\n",
    "        original_label = row['Label']\n",
    "\n",
    "        # Augment the data\n",
    "        # Example: back translation\n",
    "        augmented_text = back_translate(original_text, src_lang='ar', dest_lang='en')\n",
    "        augmented_topic = original_topic  # You can apply augmentation techniques for topics as well\n",
    "        augmented_label = original_label  # Label can be changed to 'fake' for augmented data\n",
    "\n",
    "        # Append the augmented data to the list\n",
    "        augmented_data.append({\n",
    "            'Title': row['Title'],\n",
    "            'Label': augmented_label,\n",
    "            'Topic': augmented_topic,\n",
    "            'Origine': row['Origine'],\n",
    "            'Article_date': row['Article_date'],\n",
    "            'Article_content': augmented_text,\n",
    "            'Article_correction': row['Article_correction']\n",
    "        })\n",
    "\n",
    "    return pd.DataFrame(augmented_data)\n",
    "\n",
    "# Augment the data\n",
    "augmented_df = augment_data(df)\n",
    "\n",
    "# Concatenate original and augmented data\n",
    "combined_df = pd.concat([df, augmented_df], ignore_index=True)\n",
    "\n",
    "# Shuffle the combined DataFrame\n",
    "combined_df = combined_df.sample(frac=1).reset_index(drop=True)\n",
    "\n",
    "# Print the combined DataFrame\n",
    "print(combined_df)\n",
    "\"\"\""
   ]
  }
 ],
 "metadata": {
  "kernelspec": {
   "display_name": "Python 3",
   "language": "python",
   "name": "python3"
  },
  "language_info": {
   "codemirror_mode": {
    "name": "ipython",
    "version": 3
   },
   "file_extension": ".py",
   "mimetype": "text/x-python",
   "name": "python",
   "nbconvert_exporter": "python",
   "pygments_lexer": "ipython3",
   "version": "3.11.9"
  }
 },
 "nbformat": 4,
 "nbformat_minor": 2
}
