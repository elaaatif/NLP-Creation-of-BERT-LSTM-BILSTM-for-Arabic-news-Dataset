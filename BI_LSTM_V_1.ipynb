{
  "metadata": {
    "kernelspec": {
      "display_name": "Python 3",
      "language": "python",
      "name": "python3"
    },
    "language_info": {
      "name": "python",
      "version": "3.10.13",
      "mimetype": "text/x-python",
      "codemirror_mode": {
        "name": "ipython",
        "version": 3
      },
      "pygments_lexer": "ipython3",
      "nbconvert_exporter": "python",
      "file_extension": ".py"
    },
    "kaggle": {
      "accelerator": "nvidiaTeslaT4",
      "dataSources": [
        {
          "sourceId": 5618667,
          "sourceType": "datasetVersion",
          "datasetId": 3221253
        },
        {
          "sourceId": 8300680,
          "sourceType": "datasetVersion",
          "datasetId": 4931362
        }
      ],
      "dockerImageVersionId": 30699,
      "isInternetEnabled": true,
      "language": "python",
      "sourceType": "notebook",
      "isGpuEnabled": true
    },
    "colab": {
      "provenance": [],
      "include_colab_link": true
    }
  },
  "nbformat_minor": 0,
  "nbformat": 4,
  "cells": [
    {
      "cell_type": "markdown",
      "metadata": {
        "id": "view-in-github",
        "colab_type": "text"
      },
      "source": [
        "<a href=\"https://colab.research.google.com/github/elaaatif/NLP-Creation-of-BERT-LSTM-BILSTM-for-Arabic-news-Dataset/blob/master/BI_LSTM_V_1.ipynb\" target=\"_parent\"><img src=\"https://colab.research.google.com/assets/colab-badge.svg\" alt=\"Open In Colab\"/></a>"
      ]
    },
    {
      "cell_type": "code",
      "source": [
        "import os\n",
        "import json\n",
        "import pandas as pd\n",
        "import numpy as np\n",
        "import matplotlib.pyplot as plt\n",
        "import nltk\n",
        "from nltk.corpus import stopwords\n",
        "from sklearn.model_selection import train_test_split\n",
        "from sklearn.preprocessing import LabelEncoder\n",
        "from sklearn.metrics import accuracy_score, confusion_matrix, classification_report\n",
        "import seaborn as sns\n",
        "import re\n",
        "import tensorflow as tf\n",
        "from tensorflow.keras.models import Sequential\n",
        "from tensorflow.keras.layers import Embedding, LSTM, Dense, SpatialDropout1D\n",
        "from tensorflow.keras.preprocessing.text import Tokenizer\n",
        "from tensorflow.keras.preprocessing.sequence import pad_sequences\n",
        "from keras.layers import Bidirectional\n",
        "import sklearn"
      ],
      "metadata": {
        "execution": {
          "iopub.status.busy": "2024-05-03T17:28:13.413767Z",
          "iopub.execute_input": "2024-05-03T17:28:13.414691Z",
          "iopub.status.idle": "2024-05-03T17:28:13.421835Z",
          "shell.execute_reply.started": "2024-05-03T17:28:13.414656Z",
          "shell.execute_reply": "2024-05-03T17:28:13.420816Z"
        },
        "trusted": true,
        "id": "cLNmb53ZwS_V"
      },
      "execution_count": null,
      "outputs": []
    },
    {
      "cell_type": "markdown",
      "source": [
        "* READING DATA FRAMES"
      ],
      "metadata": {
        "id": "h7XvZ_WlwS_W"
      }
    },
    {
      "cell_type": "code",
      "source": [
        "# Read the dataset\n",
        "df1 = pd.read_csv(\"/kaggle/input/labeledarticles/labeled_data.csv\")"
      ],
      "metadata": {
        "execution": {
          "iopub.status.busy": "2024-05-03T17:28:13.423381Z",
          "iopub.execute_input": "2024-05-03T17:28:13.423727Z",
          "iopub.status.idle": "2024-05-03T17:28:28.867293Z",
          "shell.execute_reply.started": "2024-05-03T17:28:13.423702Z",
          "shell.execute_reply": "2024-05-03T17:28:28.866413Z"
        },
        "trusted": true,
        "id": "9x7mzJEcwS_X"
      },
      "execution_count": null,
      "outputs": []
    },
    {
      "cell_type": "code",
      "source": [
        "df1.drop_duplicates(subset=['title','text'], inplace=True)"
      ],
      "metadata": {
        "execution": {
          "iopub.status.busy": "2024-05-03T17:28:28.868889Z",
          "iopub.execute_input": "2024-05-03T17:28:28.869201Z",
          "iopub.status.idle": "2024-05-03T17:28:33.472285Z",
          "shell.execute_reply.started": "2024-05-03T17:28:28.869175Z",
          "shell.execute_reply": "2024-05-03T17:28:33.471503Z"
        },
        "trusted": true,
        "id": "xbfsEOTzwS_X"
      },
      "execution_count": null,
      "outputs": []
    },
    {
      "cell_type": "code",
      "source": [
        "df1.describe()"
      ],
      "metadata": {
        "execution": {
          "iopub.status.busy": "2024-05-03T17:28:33.473591Z",
          "iopub.execute_input": "2024-05-03T17:28:33.473871Z",
          "iopub.status.idle": "2024-05-03T17:28:35.462519Z",
          "shell.execute_reply.started": "2024-05-03T17:28:33.473847Z",
          "shell.execute_reply": "2024-05-03T17:28:35.461529Z"
        },
        "trusted": true,
        "id": "-AyJzRAPwS_X",
        "outputId": "f8c1e13d-754b-46fe-968f-8deca518d091"
      },
      "execution_count": null,
      "outputs": [
        {
          "execution_count": 63,
          "output_type": "execute_result",
          "data": {
            "text/plain": "                                                  title  \\\ncount                                            373515   \nunique                                           363736   \ntop     نصاف بن علية تتلقّى الجرعة الأولى من لقاح فايزر   \nfreq                                                  6   \n\n                                                     text  \\\ncount                                              373515   \nunique                                             362821   \ntop     احترام خصوصيتك هو أولويتنا\\n\\nنحن نستخدم ملفات...   \nfreq                                                  797   \n\n            publishing_date source_num     label  \ncount                373515     373515    373515  \nunique               285062        103         2  \ntop     2021-05-19T00:00:00  source_65  credible  \nfreq                    845      33706    207018  ",
            "text/html": "<div>\n<style scoped>\n    .dataframe tbody tr th:only-of-type {\n        vertical-align: middle;\n    }\n\n    .dataframe tbody tr th {\n        vertical-align: top;\n    }\n\n    .dataframe thead th {\n        text-align: right;\n    }\n</style>\n<table border=\"1\" class=\"dataframe\">\n  <thead>\n    <tr style=\"text-align: right;\">\n      <th></th>\n      <th>title</th>\n      <th>text</th>\n      <th>publishing_date</th>\n      <th>source_num</th>\n      <th>label</th>\n    </tr>\n  </thead>\n  <tbody>\n    <tr>\n      <th>count</th>\n      <td>373515</td>\n      <td>373515</td>\n      <td>373515</td>\n      <td>373515</td>\n      <td>373515</td>\n    </tr>\n    <tr>\n      <th>unique</th>\n      <td>363736</td>\n      <td>362821</td>\n      <td>285062</td>\n      <td>103</td>\n      <td>2</td>\n    </tr>\n    <tr>\n      <th>top</th>\n      <td>نصاف بن علية تتلقّى الجرعة الأولى من لقاح فايزر</td>\n      <td>احترام خصوصيتك هو أولويتنا\\n\\nنحن نستخدم ملفات...</td>\n      <td>2021-05-19T00:00:00</td>\n      <td>source_65</td>\n      <td>credible</td>\n    </tr>\n    <tr>\n      <th>freq</th>\n      <td>6</td>\n      <td>797</td>\n      <td>845</td>\n      <td>33706</td>\n      <td>207018</td>\n    </tr>\n  </tbody>\n</table>\n</div>"
          },
          "metadata": {}
        }
      ]
    },
    {
      "cell_type": "code",
      "source": [
        "# Show the head of the DataFrame\n",
        "print(df1.head())"
      ],
      "metadata": {
        "execution": {
          "iopub.status.busy": "2024-05-03T17:28:35.464733Z",
          "iopub.execute_input": "2024-05-03T17:28:35.465046Z",
          "iopub.status.idle": "2024-05-03T17:28:35.472045Z",
          "shell.execute_reply.started": "2024-05-03T17:28:35.465019Z",
          "shell.execute_reply": "2024-05-03T17:28:35.471023Z"
        },
        "trusted": true,
        "id": "1TCGEnjgwS_Y",
        "outputId": "628bc6d9-2176-439e-8db5-2fe2e2119dff"
      },
      "execution_count": null,
      "outputs": [
        {
          "name": "stdout",
          "text": "                                               title  \\\n0  المنتخب الوطني المغربي لأقل من 20 سنة يخوض تجم...   \n1  وزير النقل اعمارة:السرعة عامل مسبب لحوادث السي...   \n2    ميسي يؤكد أن الفوز بكأس اسبانيا كان \"نقطة تحول\"   \n3  دبلوماسي مغربي سابق بإسبانيا لـ2M.ma: خطأ مدري...   \n4  شركتان، فرنسية وبريطانية تعلنان عن نتائج إيجاب...   \n\n                                                text      publishing_date  \\\n0  يخوض المنتخب الوطني المغربي لكرة القدم لأقل من...  2021-05-23T00:00:00   \n1  ترأس عبد القادر اعمارة، وزير التجهيز و النقل و...  2021-05-22T00:00:00   \n2  أكد النجم الارجنتيني ليونيل ميسي أن فوز فريقه ...  2021-05-22T00:00:00   \n3  أكّد الدبلوماسي المغربي السابق بإسبانيا، عبد ا...  2021-05-22T00:00:00   \n4  أعلنت شركتا سانوفي الفرنسية العملاقة في تصنيع ...  2021-05-17T00:00:00   \n\n  source_num     label  \n0   source_1  credible  \n1   source_1  credible  \n2   source_1  credible  \n3   source_1  credible  \n4   source_1  credible  \n",
          "output_type": "stream"
        }
      ]
    },
    {
      "cell_type": "code",
      "source": [
        "#label\n",
        "distinct_label = df1['label'].unique()\n",
        "print(\"Distinct label:\", distinct_label)"
      ],
      "metadata": {
        "execution": {
          "iopub.status.busy": "2024-05-03T17:28:35.473168Z",
          "iopub.execute_input": "2024-05-03T17:28:35.473442Z",
          "iopub.status.idle": "2024-05-03T17:28:35.512236Z",
          "shell.execute_reply.started": "2024-05-03T17:28:35.473418Z",
          "shell.execute_reply": "2024-05-03T17:28:35.511263Z"
        },
        "trusted": true,
        "id": "MVGot36ZwS_Y",
        "outputId": "8037d253-e403-4e85-fb5f-f2a6dc5f4ca6"
      },
      "execution_count": null,
      "outputs": [
        {
          "name": "stdout",
          "text": "Distinct label: ['credible' 'not credible']\n",
          "output_type": "stream"
        }
      ]
    },
    {
      "cell_type": "code",
      "source": [
        "#preps for merg\n",
        "df1['label'] = df1['label'].map({'credible': 'real', 'not credible': 'fake'})"
      ],
      "metadata": {
        "execution": {
          "iopub.status.busy": "2024-05-03T17:28:35.513321Z",
          "iopub.execute_input": "2024-05-03T17:28:35.514130Z",
          "iopub.status.idle": "2024-05-03T17:28:35.559447Z",
          "shell.execute_reply.started": "2024-05-03T17:28:35.514099Z",
          "shell.execute_reply": "2024-05-03T17:28:35.558332Z"
        },
        "trusted": true,
        "id": "xLnAFLPlwS_Z"
      },
      "execution_count": null,
      "outputs": []
    },
    {
      "cell_type": "code",
      "source": [
        "# Read Arabic stop words from text file\n",
        "with open(\"/kaggle/input/arabic/Arabic stop words .txt\", encoding=\"utf-8\") as file:\n",
        "    arabic_stopwords = set(file.read().splitlines())"
      ],
      "metadata": {
        "execution": {
          "iopub.status.busy": "2024-05-03T17:28:35.562411Z",
          "iopub.execute_input": "2024-05-03T17:28:35.563053Z",
          "iopub.status.idle": "2024-05-03T17:28:35.570208Z",
          "shell.execute_reply.started": "2024-05-03T17:28:35.563023Z",
          "shell.execute_reply": "2024-05-03T17:28:35.569175Z"
        },
        "trusted": true,
        "id": "AtzOHwgewS_Z"
      },
      "execution_count": null,
      "outputs": []
    },
    {
      "cell_type": "code",
      "source": [
        "\"\"\"\n",
        "# Getting the Arabic stopwords from NLTK\n",
        "stop_words = set(stopwords.words('arabic'))\n",
        "\"\"\""
      ],
      "metadata": {
        "execution": {
          "iopub.status.busy": "2024-05-03T17:28:35.571192Z",
          "iopub.execute_input": "2024-05-03T17:28:35.571468Z",
          "iopub.status.idle": "2024-05-03T17:28:35.579372Z",
          "shell.execute_reply.started": "2024-05-03T17:28:35.571444Z",
          "shell.execute_reply": "2024-05-03T17:28:35.578542Z"
        },
        "trusted": true,
        "id": "mYr8_1n1wS_Z",
        "outputId": "f839c850-85c1-4637-ba34-0ee49025eb2f"
      },
      "execution_count": null,
      "outputs": [
        {
          "execution_count": 68,
          "output_type": "execute_result",
          "data": {
            "text/plain": "\" \\n# Getting the Arabic stopwords from NLTK\\nstop_words = set(stopwords.words('arabic'))\\n\""
          },
          "metadata": {}
        }
      ]
    },
    {
      "cell_type": "code",
      "source": [
        "# Function to clean the text\n",
        "def clean_text(text):\n",
        "    # Remove links\n",
        "    text = re.sub(r'http\\S+', '', text)\n",
        "\n",
        "    # Remove emojis and punctuations\n",
        "    text = re.sub(r'[^\\w\\s]', '', text)\n",
        "\n",
        "    # Remove HTML tags\n",
        "    text = re.sub(r'<[^>]+>', '', text)\n",
        "\n",
        "    # Remove specific patterns like \":\\n\\n1\"\n",
        "    text = re.sub(r':\\n\\n\\d+', '', text)\n",
        "\n",
        "    # Remove empty spaces\n",
        "    text = text.strip()\n",
        "\n",
        "    return text\n",
        "\n",
        "# Clean the text column\n",
        "df1['cleaned_text'] = df1['text'].apply(clean_text)\n",
        "\n",
        "\n",
        "# Function to remove Arabic stop words\n",
        "def remove_stopwords(text):\n",
        "    words = text.split()\n",
        "    filtered_words = [word for word in words if word not in arabic_stopwords]\n",
        "    return ' '.join(filtered_words)\n",
        "\n",
        "# Remove Arabic stop words\n",
        "df1['cleaned_text'] = df1['cleaned_text'].apply(remove_stopwords)\n",
        "\n",
        "# Show the head of the DataFrame with cleaned text\n",
        "print(df1[['text', 'cleaned_text']].head())\n"
      ],
      "metadata": {
        "execution": {
          "iopub.status.busy": "2024-05-03T17:28:35.580458Z",
          "iopub.execute_input": "2024-05-03T17:28:35.581098Z",
          "iopub.status.idle": "2024-05-03T17:29:22.681413Z",
          "shell.execute_reply.started": "2024-05-03T17:28:35.581071Z",
          "shell.execute_reply": "2024-05-03T17:29:22.680437Z"
        },
        "trusted": true,
        "id": "4f6NZzOowS_Z",
        "outputId": "01316a4e-f773-4993-c3a1-eb4405555c5e"
      },
      "execution_count": null,
      "outputs": [
        {
          "name": "stdout",
          "text": "                                                text  \\\n0  يخوض المنتخب الوطني المغربي لكرة القدم لأقل من...   \n1  ترأس عبد القادر اعمارة، وزير التجهيز و النقل و...   \n2  أكد النجم الارجنتيني ليونيل ميسي أن فوز فريقه ...   \n3  أكّد الدبلوماسي المغربي السابق بإسبانيا، عبد ا...   \n4  أعلنت شركتا سانوفي الفرنسية العملاقة في تصنيع ...   \n\n                                        cleaned_text  \n0  يخوض المنتخب الوطني المغربي لكرة القدم لأقل 20...  \n1  ترأس عبد القادر اعمارة وزير التجهيز النقل اللو...  \n2  أكد النجم الارجنتيني ليونيل ميسي فوز فريقه برش...  \n3  أكد الدبلوماسي المغربي بإسبانيا عبد الخالق أطر...  \n4  أعلنت شركتا سانوفي الفرنسية العملاقة تصنيع الأ...  \n",
          "output_type": "stream"
        }
      ]
    },
    {
      "cell_type": "code",
      "source": [
        "# Show the head of the DataFrame\n",
        "print(df1.head())\n",
        "#pd.set_option('display.max_colwidth', None)"
      ],
      "metadata": {
        "execution": {
          "iopub.status.busy": "2024-05-03T17:29:22.685017Z",
          "iopub.execute_input": "2024-05-03T17:29:22.685317Z",
          "iopub.status.idle": "2024-05-03T17:29:22.692874Z",
          "shell.execute_reply.started": "2024-05-03T17:29:22.685292Z",
          "shell.execute_reply": "2024-05-03T17:29:22.691901Z"
        },
        "trusted": true,
        "id": "FmR8ipB_wS_Z",
        "outputId": "581a0e5f-3838-451e-b356-92b8b79f240c"
      },
      "execution_count": null,
      "outputs": [
        {
          "name": "stdout",
          "text": "                                               title  \\\n0  المنتخب الوطني المغربي لأقل من 20 سنة يخوض تجم...   \n1  وزير النقل اعمارة:السرعة عامل مسبب لحوادث السي...   \n2    ميسي يؤكد أن الفوز بكأس اسبانيا كان \"نقطة تحول\"   \n3  دبلوماسي مغربي سابق بإسبانيا لـ2M.ma: خطأ مدري...   \n4  شركتان، فرنسية وبريطانية تعلنان عن نتائج إيجاب...   \n\n                                                text      publishing_date  \\\n0  يخوض المنتخب الوطني المغربي لكرة القدم لأقل من...  2021-05-23T00:00:00   \n1  ترأس عبد القادر اعمارة، وزير التجهيز و النقل و...  2021-05-22T00:00:00   \n2  أكد النجم الارجنتيني ليونيل ميسي أن فوز فريقه ...  2021-05-22T00:00:00   \n3  أكّد الدبلوماسي المغربي السابق بإسبانيا، عبد ا...  2021-05-22T00:00:00   \n4  أعلنت شركتا سانوفي الفرنسية العملاقة في تصنيع ...  2021-05-17T00:00:00   \n\n  source_num label                                       cleaned_text  \n0   source_1  real  يخوض المنتخب الوطني المغربي لكرة القدم لأقل 20...  \n1   source_1  real  ترأس عبد القادر اعمارة وزير التجهيز النقل اللو...  \n2   source_1  real  أكد النجم الارجنتيني ليونيل ميسي فوز فريقه برش...  \n3   source_1  real  أكد الدبلوماسي المغربي بإسبانيا عبد الخالق أطر...  \n4   source_1  real  أعلنت شركتا سانوفي الفرنسية العملاقة تصنيع الأ...  \n",
          "output_type": "stream"
        }
      ]
    },
    {
      "cell_type": "code",
      "source": [
        "df1.describe()"
      ],
      "metadata": {
        "execution": {
          "iopub.status.busy": "2024-05-03T17:29:22.694039Z",
          "iopub.execute_input": "2024-05-03T17:29:22.694350Z",
          "iopub.status.idle": "2024-05-03T17:29:24.925741Z",
          "shell.execute_reply.started": "2024-05-03T17:29:22.694325Z",
          "shell.execute_reply": "2024-05-03T17:29:24.924670Z"
        },
        "trusted": true,
        "id": "xZL8Svt0wS_Z",
        "outputId": "bee51aa1-2d98-4ae2-a38e-075554cec0b2"
      },
      "execution_count": null,
      "outputs": [
        {
          "execution_count": 71,
          "output_type": "execute_result",
          "data": {
            "text/plain": "                                                  title  \\\ncount                                            373515   \nunique                                           363736   \ntop     نصاف بن علية تتلقّى الجرعة الأولى من لقاح فايزر   \nfreq                                                  6   \n\n                                                     text  \\\ncount                                              373515   \nunique                                             362821   \ntop     احترام خصوصيتك هو أولويتنا\\n\\nنحن نستخدم ملفات...   \nfreq                                                  797   \n\n            publishing_date source_num   label  \\\ncount                373515     373515  373515   \nunique               285062        103       2   \ntop     2021-05-19T00:00:00  source_65    real   \nfreq                    845      33706  207018   \n\n                                             cleaned_text  \ncount                                              373515  \nunique                                             360433  \ntop     احترام خصوصيتك أولويتنا نستخدم ملفات تعريف الا...  \nfreq                                                  797  ",
            "text/html": "<div>\n<style scoped>\n    .dataframe tbody tr th:only-of-type {\n        vertical-align: middle;\n    }\n\n    .dataframe tbody tr th {\n        vertical-align: top;\n    }\n\n    .dataframe thead th {\n        text-align: right;\n    }\n</style>\n<table border=\"1\" class=\"dataframe\">\n  <thead>\n    <tr style=\"text-align: right;\">\n      <th></th>\n      <th>title</th>\n      <th>text</th>\n      <th>publishing_date</th>\n      <th>source_num</th>\n      <th>label</th>\n      <th>cleaned_text</th>\n    </tr>\n  </thead>\n  <tbody>\n    <tr>\n      <th>count</th>\n      <td>373515</td>\n      <td>373515</td>\n      <td>373515</td>\n      <td>373515</td>\n      <td>373515</td>\n      <td>373515</td>\n    </tr>\n    <tr>\n      <th>unique</th>\n      <td>363736</td>\n      <td>362821</td>\n      <td>285062</td>\n      <td>103</td>\n      <td>2</td>\n      <td>360433</td>\n    </tr>\n    <tr>\n      <th>top</th>\n      <td>نصاف بن علية تتلقّى الجرعة الأولى من لقاح فايزر</td>\n      <td>احترام خصوصيتك هو أولويتنا\\n\\nنحن نستخدم ملفات...</td>\n      <td>2021-05-19T00:00:00</td>\n      <td>source_65</td>\n      <td>real</td>\n      <td>احترام خصوصيتك أولويتنا نستخدم ملفات تعريف الا...</td>\n    </tr>\n    <tr>\n      <th>freq</th>\n      <td>6</td>\n      <td>797</td>\n      <td>845</td>\n      <td>33706</td>\n      <td>207018</td>\n      <td>797</td>\n    </tr>\n  </tbody>\n</table>\n</div>"
          },
          "metadata": {}
        }
      ]
    },
    {
      "cell_type": "code",
      "source": [
        "df2 = pd.read_csv(\"/kaggle/input/arabic/cleaned_merged_data.csv\")"
      ],
      "metadata": {
        "execution": {
          "iopub.status.busy": "2024-05-03T17:29:24.927067Z",
          "iopub.execute_input": "2024-05-03T17:29:24.927372Z",
          "iopub.status.idle": "2024-05-03T17:29:25.764708Z",
          "shell.execute_reply.started": "2024-05-03T17:29:24.927347Z",
          "shell.execute_reply": "2024-05-03T17:29:25.763617Z"
        },
        "trusted": true,
        "id": "L6CTVD_fwS_a"
      },
      "execution_count": null,
      "outputs": []
    },
    {
      "cell_type": "code",
      "source": [
        "df2.head()"
      ],
      "metadata": {
        "execution": {
          "iopub.status.busy": "2024-05-03T17:29:25.766210Z",
          "iopub.execute_input": "2024-05-03T17:29:25.766673Z",
          "iopub.status.idle": "2024-05-03T17:29:25.782460Z",
          "shell.execute_reply.started": "2024-05-03T17:29:25.766633Z",
          "shell.execute_reply": "2024-05-03T17:29:25.781556Z"
        },
        "trusted": true,
        "id": "HgI_RgylwS_a",
        "outputId": "2e522115-66da-4034-9c3b-3fe4a92b23ab"
      },
      "execution_count": null,
      "outputs": [
        {
          "execution_count": 73,
          "output_type": "execute_result",
          "data": {
            "text/plain": "                                               Title Label     Topic Origine  \\\n0  54 عاما في القضاء.. نهاية حزينة لمعركة مقدسي ح...  real  politics     df1   \n1  خبراء إيرانيون يشرحون لماذا لا تستعجل طهران با...  real  politics     df1   \n2  فلسطيني يقود فريق خبراء بإيطاليا لبناء قضية إب...  real  politics     df1   \n3  مستوطنون يهاجمون قرى نابلس بحماية من جنود الاح...  real  politics     df1   \n4  جدل قانوني حول ترشح جاكوب زوما لانتخابات جنوب ...  real  politics     df1   \n\n  Article_date                                    Article_content  \\\n0          NaN  القدس المحتلة- لن يتمكن المقدسي سامي درويش في ...   \n1          NaN  طهران- منذ الهجوم الإسرائيلي على القنصلية الإي...   \n2          NaN  غادر المحامي الفلسطيني راجي صوراني قطاع غزة رف...   \n3          NaN  نابلس- لليوم الثاني على التوالي، تتعرض قرية دو...   \n4          NaN  بريتوريا- تقدمت اللجنة المستقلة للانتخابات في ...   \n\n  Article_correction                            Article_content_cleaned  \\\n0                NaN  القدس المحتلة- لن يتمكن المقدسي سامي درويش في ...   \n1                NaN  طهران- منذ الهجوم الإسرائيلي على القنصلية الإي...   \n2                NaN  غادر المحامي الفلسطيني راجي صوراني قطاع غزة رف...   \n3                NaN  نابلس- لليوم الثاني على التوالي، تتعرض قرية دو...   \n4                NaN  بريتوريا- تقدمت اللجنة المستقلة للانتخابات في ...   \n\n  Article_correction_cleaned  \n0                        NaN  \n1                        NaN  \n2                        NaN  \n3                        NaN  \n4                        NaN  ",
            "text/html": "<div>\n<style scoped>\n    .dataframe tbody tr th:only-of-type {\n        vertical-align: middle;\n    }\n\n    .dataframe tbody tr th {\n        vertical-align: top;\n    }\n\n    .dataframe thead th {\n        text-align: right;\n    }\n</style>\n<table border=\"1\" class=\"dataframe\">\n  <thead>\n    <tr style=\"text-align: right;\">\n      <th></th>\n      <th>Title</th>\n      <th>Label</th>\n      <th>Topic</th>\n      <th>Origine</th>\n      <th>Article_date</th>\n      <th>Article_content</th>\n      <th>Article_correction</th>\n      <th>Article_content_cleaned</th>\n      <th>Article_correction_cleaned</th>\n    </tr>\n  </thead>\n  <tbody>\n    <tr>\n      <th>0</th>\n      <td>54 عاما في القضاء.. نهاية حزينة لمعركة مقدسي ح...</td>\n      <td>real</td>\n      <td>politics</td>\n      <td>df1</td>\n      <td>NaN</td>\n      <td>القدس المحتلة- لن يتمكن المقدسي سامي درويش في ...</td>\n      <td>NaN</td>\n      <td>القدس المحتلة- لن يتمكن المقدسي سامي درويش في ...</td>\n      <td>NaN</td>\n    </tr>\n    <tr>\n      <th>1</th>\n      <td>خبراء إيرانيون يشرحون لماذا لا تستعجل طهران با...</td>\n      <td>real</td>\n      <td>politics</td>\n      <td>df1</td>\n      <td>NaN</td>\n      <td>طهران- منذ الهجوم الإسرائيلي على القنصلية الإي...</td>\n      <td>NaN</td>\n      <td>طهران- منذ الهجوم الإسرائيلي على القنصلية الإي...</td>\n      <td>NaN</td>\n    </tr>\n    <tr>\n      <th>2</th>\n      <td>فلسطيني يقود فريق خبراء بإيطاليا لبناء قضية إب...</td>\n      <td>real</td>\n      <td>politics</td>\n      <td>df1</td>\n      <td>NaN</td>\n      <td>غادر المحامي الفلسطيني راجي صوراني قطاع غزة رف...</td>\n      <td>NaN</td>\n      <td>غادر المحامي الفلسطيني راجي صوراني قطاع غزة رف...</td>\n      <td>NaN</td>\n    </tr>\n    <tr>\n      <th>3</th>\n      <td>مستوطنون يهاجمون قرى نابلس بحماية من جنود الاح...</td>\n      <td>real</td>\n      <td>politics</td>\n      <td>df1</td>\n      <td>NaN</td>\n      <td>نابلس- لليوم الثاني على التوالي، تتعرض قرية دو...</td>\n      <td>NaN</td>\n      <td>نابلس- لليوم الثاني على التوالي، تتعرض قرية دو...</td>\n      <td>NaN</td>\n    </tr>\n    <tr>\n      <th>4</th>\n      <td>جدل قانوني حول ترشح جاكوب زوما لانتخابات جنوب ...</td>\n      <td>real</td>\n      <td>politics</td>\n      <td>df1</td>\n      <td>NaN</td>\n      <td>بريتوريا- تقدمت اللجنة المستقلة للانتخابات في ...</td>\n      <td>NaN</td>\n      <td>بريتوريا- تقدمت اللجنة المستقلة للانتخابات في ...</td>\n      <td>NaN</td>\n    </tr>\n  </tbody>\n</table>\n</div>"
          },
          "metadata": {}
        }
      ]
    },
    {
      "cell_type": "code",
      "source": [
        "df2.describe()"
      ],
      "metadata": {
        "execution": {
          "iopub.status.busy": "2024-05-03T17:29:25.783679Z",
          "iopub.execute_input": "2024-05-03T17:29:25.784311Z",
          "iopub.status.idle": "2024-05-03T17:29:25.869858Z",
          "shell.execute_reply.started": "2024-05-03T17:29:25.784285Z",
          "shell.execute_reply": "2024-05-03T17:29:25.868777Z"
        },
        "trusted": true,
        "id": "MFbFqozbwS_a",
        "outputId": "98df5edb-d542-439d-fa5e-6db164dfdaa6"
      },
      "execution_count": null,
      "outputs": [
        {
          "execution_count": 74,
          "output_type": "execute_result",
          "data": {
            "text/plain": "                                                    Title Label  Topic  \\\ncount                                                5734  5735    938   \nunique                                               5734     2     10   \ntop     هذا المقطع يصور طقوسًا دينية في الهند، وليس حر...  fake  sport   \nfreq                                                    1  3115    336   \n\n       Origine   Article_date Article_content  \\\ncount     5735           5568            5735   \nunique       2           2927            5717   \ntop        df1  May. 19, 2021     ['الإدعاء']   \nfreq      5721             22              11   \n\n                                       Article_correction  \\\ncount                                                2225   \nunique                                               2225   \ntop     نشرت إحدى حسابات فيسبوك الادعاء بتاريخ 4 يناير...   \nfreq                                                    1   \n\n       Article_content_cleaned  \\\ncount                     5735   \nunique                    5717   \ntop                ['الإدعاء']   \nfreq                        11   \n\n                               Article_correction_cleaned  \ncount                                                2225  \nunique                                               2225  \ntop     نشرت إحدى حسابات فيسبوك الادعاء بتاريخ 4 يناير...  \nfreq                                                    1  ",
            "text/html": "<div>\n<style scoped>\n    .dataframe tbody tr th:only-of-type {\n        vertical-align: middle;\n    }\n\n    .dataframe tbody tr th {\n        vertical-align: top;\n    }\n\n    .dataframe thead th {\n        text-align: right;\n    }\n</style>\n<table border=\"1\" class=\"dataframe\">\n  <thead>\n    <tr style=\"text-align: right;\">\n      <th></th>\n      <th>Title</th>\n      <th>Label</th>\n      <th>Topic</th>\n      <th>Origine</th>\n      <th>Article_date</th>\n      <th>Article_content</th>\n      <th>Article_correction</th>\n      <th>Article_content_cleaned</th>\n      <th>Article_correction_cleaned</th>\n    </tr>\n  </thead>\n  <tbody>\n    <tr>\n      <th>count</th>\n      <td>5734</td>\n      <td>5735</td>\n      <td>938</td>\n      <td>5735</td>\n      <td>5568</td>\n      <td>5735</td>\n      <td>2225</td>\n      <td>5735</td>\n      <td>2225</td>\n    </tr>\n    <tr>\n      <th>unique</th>\n      <td>5734</td>\n      <td>2</td>\n      <td>10</td>\n      <td>2</td>\n      <td>2927</td>\n      <td>5717</td>\n      <td>2225</td>\n      <td>5717</td>\n      <td>2225</td>\n    </tr>\n    <tr>\n      <th>top</th>\n      <td>هذا المقطع يصور طقوسًا دينية في الهند، وليس حر...</td>\n      <td>fake</td>\n      <td>sport</td>\n      <td>df1</td>\n      <td>May. 19, 2021</td>\n      <td>['الإدعاء']</td>\n      <td>نشرت إحدى حسابات فيسبوك الادعاء بتاريخ 4 يناير...</td>\n      <td>['الإدعاء']</td>\n      <td>نشرت إحدى حسابات فيسبوك الادعاء بتاريخ 4 يناير...</td>\n    </tr>\n    <tr>\n      <th>freq</th>\n      <td>1</td>\n      <td>3115</td>\n      <td>336</td>\n      <td>5721</td>\n      <td>22</td>\n      <td>11</td>\n      <td>1</td>\n      <td>11</td>\n      <td>1</td>\n    </tr>\n  </tbody>\n</table>\n</div>"
          },
          "metadata": {}
        }
      ]
    },
    {
      "cell_type": "code",
      "source": [
        "df2.drop_duplicates(subset=['Title','Article_content'], inplace=True)"
      ],
      "metadata": {
        "execution": {
          "iopub.status.busy": "2024-05-03T17:29:25.871316Z",
          "iopub.execute_input": "2024-05-03T17:29:25.871732Z",
          "iopub.status.idle": "2024-05-03T17:29:25.957778Z",
          "shell.execute_reply.started": "2024-05-03T17:29:25.871696Z",
          "shell.execute_reply": "2024-05-03T17:29:25.956757Z"
        },
        "trusted": true,
        "id": "t2SmfcSLwS_a"
      },
      "execution_count": null,
      "outputs": []
    },
    {
      "cell_type": "code",
      "source": [
        "df2.describe()"
      ],
      "metadata": {
        "execution": {
          "iopub.status.busy": "2024-05-03T17:29:25.959135Z",
          "iopub.execute_input": "2024-05-03T17:29:25.959533Z",
          "iopub.status.idle": "2024-05-03T17:29:26.010843Z",
          "shell.execute_reply.started": "2024-05-03T17:29:25.959480Z",
          "shell.execute_reply": "2024-05-03T17:29:26.009863Z"
        },
        "trusted": true,
        "id": "nEZPHDSywS_a",
        "outputId": "5850d9b7-365f-45fa-8d94-43dd27a1755d"
      },
      "execution_count": null,
      "outputs": [
        {
          "execution_count": 76,
          "output_type": "execute_result",
          "data": {
            "text/plain": "                                                    Title Label  Topic  \\\ncount                                                5734  5735    938   \nunique                                               5734     2     10   \ntop     هذا المقطع يصور طقوسًا دينية في الهند، وليس حر...  fake  sport   \nfreq                                                    1  3115    336   \n\n       Origine   Article_date Article_content  \\\ncount     5735           5568            5735   \nunique       2           2927            5717   \ntop        df1  May. 19, 2021     ['الإدعاء']   \nfreq      5721             22              11   \n\n                                       Article_correction  \\\ncount                                                2225   \nunique                                               2225   \ntop     نشرت إحدى حسابات فيسبوك الادعاء بتاريخ 4 يناير...   \nfreq                                                    1   \n\n       Article_content_cleaned  \\\ncount                     5735   \nunique                    5717   \ntop                ['الإدعاء']   \nfreq                        11   \n\n                               Article_correction_cleaned  \ncount                                                2225  \nunique                                               2225  \ntop     نشرت إحدى حسابات فيسبوك الادعاء بتاريخ 4 يناير...  \nfreq                                                    1  ",
            "text/html": "<div>\n<style scoped>\n    .dataframe tbody tr th:only-of-type {\n        vertical-align: middle;\n    }\n\n    .dataframe tbody tr th {\n        vertical-align: top;\n    }\n\n    .dataframe thead th {\n        text-align: right;\n    }\n</style>\n<table border=\"1\" class=\"dataframe\">\n  <thead>\n    <tr style=\"text-align: right;\">\n      <th></th>\n      <th>Title</th>\n      <th>Label</th>\n      <th>Topic</th>\n      <th>Origine</th>\n      <th>Article_date</th>\n      <th>Article_content</th>\n      <th>Article_correction</th>\n      <th>Article_content_cleaned</th>\n      <th>Article_correction_cleaned</th>\n    </tr>\n  </thead>\n  <tbody>\n    <tr>\n      <th>count</th>\n      <td>5734</td>\n      <td>5735</td>\n      <td>938</td>\n      <td>5735</td>\n      <td>5568</td>\n      <td>5735</td>\n      <td>2225</td>\n      <td>5735</td>\n      <td>2225</td>\n    </tr>\n    <tr>\n      <th>unique</th>\n      <td>5734</td>\n      <td>2</td>\n      <td>10</td>\n      <td>2</td>\n      <td>2927</td>\n      <td>5717</td>\n      <td>2225</td>\n      <td>5717</td>\n      <td>2225</td>\n    </tr>\n    <tr>\n      <th>top</th>\n      <td>هذا المقطع يصور طقوسًا دينية في الهند، وليس حر...</td>\n      <td>fake</td>\n      <td>sport</td>\n      <td>df1</td>\n      <td>May. 19, 2021</td>\n      <td>['الإدعاء']</td>\n      <td>نشرت إحدى حسابات فيسبوك الادعاء بتاريخ 4 يناير...</td>\n      <td>['الإدعاء']</td>\n      <td>نشرت إحدى حسابات فيسبوك الادعاء بتاريخ 4 يناير...</td>\n    </tr>\n    <tr>\n      <th>freq</th>\n      <td>1</td>\n      <td>3115</td>\n      <td>336</td>\n      <td>5721</td>\n      <td>22</td>\n      <td>11</td>\n      <td>1</td>\n      <td>11</td>\n      <td>1</td>\n    </tr>\n  </tbody>\n</table>\n</div>"
          },
          "metadata": {}
        }
      ]
    },
    {
      "cell_type": "markdown",
      "source": [
        "* MERGING THE DATAFRAMES"
      ],
      "metadata": {
        "id": "ja79D7O9wS_a"
      }
    },
    {
      "cell_type": "code",
      "source": [
        "# Merge the dataframes on their titles\n",
        "merged_df = pd.merge(df1, df2, left_on='title', right_on='Title', how='left')\n",
        "\n",
        "# Select the required columns\n",
        "final_df = merged_df[['cleaned_text', 'label', 'Article_correction_cleaned']]\n",
        "\n",
        "# Rename the columns for consistency\n",
        "final_df.columns = ['text', 'label', 'correction']"
      ],
      "metadata": {
        "execution": {
          "iopub.status.busy": "2024-05-03T17:29:26.012578Z",
          "iopub.execute_input": "2024-05-03T17:29:26.012946Z",
          "iopub.status.idle": "2024-05-03T17:29:26.435048Z",
          "shell.execute_reply.started": "2024-05-03T17:29:26.012913Z",
          "shell.execute_reply": "2024-05-03T17:29:26.434195Z"
        },
        "trusted": true,
        "id": "ZJM1yUYywS_b"
      },
      "execution_count": null,
      "outputs": []
    },
    {
      "cell_type": "code",
      "source": [
        "# Display the final dataframe\n",
        "final_df.head()"
      ],
      "metadata": {
        "execution": {
          "iopub.status.busy": "2024-05-03T17:29:26.436404Z",
          "iopub.execute_input": "2024-05-03T17:29:26.436810Z",
          "iopub.status.idle": "2024-05-03T17:29:26.447608Z",
          "shell.execute_reply.started": "2024-05-03T17:29:26.436775Z",
          "shell.execute_reply": "2024-05-03T17:29:26.446448Z"
        },
        "trusted": true,
        "id": "RL-Y_VzXwS_b",
        "outputId": "c6267877-b519-41ea-862d-aed7861a4ff6"
      },
      "execution_count": null,
      "outputs": [
        {
          "execution_count": 78,
          "output_type": "execute_result",
          "data": {
            "text/plain": "                                                text label correction\n0  يخوض المنتخب الوطني المغربي لكرة القدم لأقل 20...  real        NaN\n1  ترأس عبد القادر اعمارة وزير التجهيز النقل اللو...  real        NaN\n2  أكد النجم الارجنتيني ليونيل ميسي فوز فريقه برش...  real        NaN\n3  أكد الدبلوماسي المغربي بإسبانيا عبد الخالق أطر...  real        NaN\n4  أعلنت شركتا سانوفي الفرنسية العملاقة تصنيع الأ...  real        NaN",
            "text/html": "<div>\n<style scoped>\n    .dataframe tbody tr th:only-of-type {\n        vertical-align: middle;\n    }\n\n    .dataframe tbody tr th {\n        vertical-align: top;\n    }\n\n    .dataframe thead th {\n        text-align: right;\n    }\n</style>\n<table border=\"1\" class=\"dataframe\">\n  <thead>\n    <tr style=\"text-align: right;\">\n      <th></th>\n      <th>text</th>\n      <th>label</th>\n      <th>correction</th>\n    </tr>\n  </thead>\n  <tbody>\n    <tr>\n      <th>0</th>\n      <td>يخوض المنتخب الوطني المغربي لكرة القدم لأقل 20...</td>\n      <td>real</td>\n      <td>NaN</td>\n    </tr>\n    <tr>\n      <th>1</th>\n      <td>ترأس عبد القادر اعمارة وزير التجهيز النقل اللو...</td>\n      <td>real</td>\n      <td>NaN</td>\n    </tr>\n    <tr>\n      <th>2</th>\n      <td>أكد النجم الارجنتيني ليونيل ميسي فوز فريقه برش...</td>\n      <td>real</td>\n      <td>NaN</td>\n    </tr>\n    <tr>\n      <th>3</th>\n      <td>أكد الدبلوماسي المغربي بإسبانيا عبد الخالق أطر...</td>\n      <td>real</td>\n      <td>NaN</td>\n    </tr>\n    <tr>\n      <th>4</th>\n      <td>أعلنت شركتا سانوفي الفرنسية العملاقة تصنيع الأ...</td>\n      <td>real</td>\n      <td>NaN</td>\n    </tr>\n  </tbody>\n</table>\n</div>"
          },
          "metadata": {}
        }
      ]
    },
    {
      "cell_type": "code",
      "source": [
        "final_df_shuffled = final_df.sample(frac=1).reset_index(drop=True)"
      ],
      "metadata": {
        "execution": {
          "iopub.status.busy": "2024-05-03T17:29:26.448929Z",
          "iopub.execute_input": "2024-05-03T17:29:26.449250Z",
          "iopub.status.idle": "2024-05-03T17:29:26.602007Z",
          "shell.execute_reply.started": "2024-05-03T17:29:26.449225Z",
          "shell.execute_reply": "2024-05-03T17:29:26.600896Z"
        },
        "trusted": true,
        "id": "UvjK0yFxwS_b"
      },
      "execution_count": null,
      "outputs": []
    },
    {
      "cell_type": "code",
      "source": [
        "final_df_shuffled.head()"
      ],
      "metadata": {
        "execution": {
          "iopub.status.busy": "2024-05-03T17:29:26.603244Z",
          "iopub.execute_input": "2024-05-03T17:29:26.603561Z",
          "iopub.status.idle": "2024-05-03T17:29:26.613554Z",
          "shell.execute_reply.started": "2024-05-03T17:29:26.603531Z",
          "shell.execute_reply": "2024-05-03T17:29:26.612551Z"
        },
        "trusted": true,
        "id": "_kkoXUtCwS_b",
        "outputId": "d8ab9085-fb88-4bb3-8d22-97300cf5aa42"
      },
      "execution_count": null,
      "outputs": [
        {
          "execution_count": 80,
          "output_type": "execute_result",
          "data": {
            "text/plain": "                                                text label correction\n0  حصل رئيس الحكومة الإيطالي الجديد ماريو دراغي ا...  real        NaN\n1  فلادمير بوتين يتحادث ايمانويل ماكرون موسكو 24 ...  real        NaN\n2  زاكروس عربية أربيل أعلنت التربية الاتحادية الا...  real        NaN\n3  عمان 23 رجب 1442 هـ الموافق 07 2021 واسأعلنت و...  real        NaN\n4  المستقلةأحمد عبدالله أعلن المستشار الإعلامي لل...  fake        NaN",
            "text/html": "<div>\n<style scoped>\n    .dataframe tbody tr th:only-of-type {\n        vertical-align: middle;\n    }\n\n    .dataframe tbody tr th {\n        vertical-align: top;\n    }\n\n    .dataframe thead th {\n        text-align: right;\n    }\n</style>\n<table border=\"1\" class=\"dataframe\">\n  <thead>\n    <tr style=\"text-align: right;\">\n      <th></th>\n      <th>text</th>\n      <th>label</th>\n      <th>correction</th>\n    </tr>\n  </thead>\n  <tbody>\n    <tr>\n      <th>0</th>\n      <td>حصل رئيس الحكومة الإيطالي الجديد ماريو دراغي ا...</td>\n      <td>real</td>\n      <td>NaN</td>\n    </tr>\n    <tr>\n      <th>1</th>\n      <td>فلادمير بوتين يتحادث ايمانويل ماكرون موسكو 24 ...</td>\n      <td>real</td>\n      <td>NaN</td>\n    </tr>\n    <tr>\n      <th>2</th>\n      <td>زاكروس عربية أربيل أعلنت التربية الاتحادية الا...</td>\n      <td>real</td>\n      <td>NaN</td>\n    </tr>\n    <tr>\n      <th>3</th>\n      <td>عمان 23 رجب 1442 هـ الموافق 07 2021 واسأعلنت و...</td>\n      <td>real</td>\n      <td>NaN</td>\n    </tr>\n    <tr>\n      <th>4</th>\n      <td>المستقلةأحمد عبدالله أعلن المستشار الإعلامي لل...</td>\n      <td>fake</td>\n      <td>NaN</td>\n    </tr>\n  </tbody>\n</table>\n</div>"
          },
          "metadata": {}
        }
      ]
    },
    {
      "cell_type": "code",
      "source": [
        "final_df_shuffled=final_df_shuffled.iloc[:30000]"
      ],
      "metadata": {
        "execution": {
          "iopub.status.busy": "2024-05-03T17:29:26.614703Z",
          "iopub.execute_input": "2024-05-03T17:29:26.615008Z",
          "iopub.status.idle": "2024-05-03T17:29:26.623810Z",
          "shell.execute_reply.started": "2024-05-03T17:29:26.614976Z",
          "shell.execute_reply": "2024-05-03T17:29:26.622882Z"
        },
        "trusted": true,
        "id": "W0q46Uc7wS_b"
      },
      "execution_count": null,
      "outputs": []
    },
    {
      "cell_type": "code",
      "source": [
        "# 'label' column contains the labels in the DataFrame\n",
        "final_df_shuffled['label'] = final_df_shuffled['label'].map({'fake': 0, 'real': 1})"
      ],
      "metadata": {
        "execution": {
          "iopub.status.busy": "2024-05-03T17:29:26.624953Z",
          "iopub.execute_input": "2024-05-03T17:29:26.625229Z",
          "iopub.status.idle": "2024-05-03T17:29:26.636739Z",
          "shell.execute_reply.started": "2024-05-03T17:29:26.625205Z",
          "shell.execute_reply": "2024-05-03T17:29:26.635882Z"
        },
        "trusted": true,
        "id": "X7yXhf_-wS_b"
      },
      "execution_count": null,
      "outputs": []
    },
    {
      "cell_type": "code",
      "source": [
        "# Replace empty strings with NaN\n",
        "final_df_shuffled['label'].replace('', np.nan, inplace=True)\n",
        "\n",
        "# Drop rows with NaN in the 'label' column\n",
        "final_df_shuffled.dropna(subset=['label'], inplace=True)"
      ],
      "metadata": {
        "execution": {
          "iopub.status.busy": "2024-05-03T17:29:26.637832Z",
          "iopub.execute_input": "2024-05-03T17:29:26.638137Z",
          "iopub.status.idle": "2024-05-03T17:29:26.654625Z",
          "shell.execute_reply.started": "2024-05-03T17:29:26.638113Z",
          "shell.execute_reply": "2024-05-03T17:29:26.653563Z"
        },
        "trusted": true,
        "id": "H258w-D0wS_b",
        "outputId": "b8e266ac-7543-4ef9-abd7-71e97ba9aefc"
      },
      "execution_count": null,
      "outputs": [
        {
          "name": "stderr",
          "text": "/tmp/ipykernel_34/4015605588.py:2: FutureWarning: A value is trying to be set on a copy of a DataFrame or Series through chained assignment using an inplace method.\nThe behavior will change in pandas 3.0. This inplace method will never work because the intermediate object on which we are setting values always behaves as a copy.\n\nFor example, when doing 'df[col].method(value, inplace=True)', try using 'df.method({col: value}, inplace=True)' or df[col] = df[col].method(value) instead, to perform the operation inplace on the original object.\n\n\n  final_df_shuffled['label'].replace('', np.nan, inplace=True)\n",
          "output_type": "stream"
        }
      ]
    },
    {
      "cell_type": "code",
      "source": [
        "final_df_shuffled.drop(columns=['correction'], inplace=True)\n"
      ],
      "metadata": {
        "execution": {
          "iopub.status.busy": "2024-05-03T17:29:26.655932Z",
          "iopub.execute_input": "2024-05-03T17:29:26.656298Z",
          "iopub.status.idle": "2024-05-03T17:29:26.663942Z",
          "shell.execute_reply.started": "2024-05-03T17:29:26.656253Z",
          "shell.execute_reply": "2024-05-03T17:29:26.663145Z"
        },
        "trusted": true,
        "id": "4hANio-IwS_c"
      },
      "execution_count": null,
      "outputs": []
    },
    {
      "cell_type": "code",
      "source": [
        "final_df_shuffled.head()"
      ],
      "metadata": {
        "execution": {
          "iopub.status.busy": "2024-05-03T17:29:26.665990Z",
          "iopub.execute_input": "2024-05-03T17:29:26.666592Z",
          "iopub.status.idle": "2024-05-03T17:29:26.676298Z",
          "shell.execute_reply.started": "2024-05-03T17:29:26.666557Z",
          "shell.execute_reply": "2024-05-03T17:29:26.675433Z"
        },
        "trusted": true,
        "id": "7L5N4ba-wS_c",
        "outputId": "91994442-3d7a-4fcb-98af-bae1ac8d3ddc"
      },
      "execution_count": null,
      "outputs": [
        {
          "execution_count": 85,
          "output_type": "execute_result",
          "data": {
            "text/plain": "                                                text  label\n0  حصل رئيس الحكومة الإيطالي الجديد ماريو دراغي ا...      1\n1  فلادمير بوتين يتحادث ايمانويل ماكرون موسكو 24 ...      1\n2  زاكروس عربية أربيل أعلنت التربية الاتحادية الا...      1\n3  عمان 23 رجب 1442 هـ الموافق 07 2021 واسأعلنت و...      1\n4  المستقلةأحمد عبدالله أعلن المستشار الإعلامي لل...      0",
            "text/html": "<div>\n<style scoped>\n    .dataframe tbody tr th:only-of-type {\n        vertical-align: middle;\n    }\n\n    .dataframe tbody tr th {\n        vertical-align: top;\n    }\n\n    .dataframe thead th {\n        text-align: right;\n    }\n</style>\n<table border=\"1\" class=\"dataframe\">\n  <thead>\n    <tr style=\"text-align: right;\">\n      <th></th>\n      <th>text</th>\n      <th>label</th>\n    </tr>\n  </thead>\n  <tbody>\n    <tr>\n      <th>0</th>\n      <td>حصل رئيس الحكومة الإيطالي الجديد ماريو دراغي ا...</td>\n      <td>1</td>\n    </tr>\n    <tr>\n      <th>1</th>\n      <td>فلادمير بوتين يتحادث ايمانويل ماكرون موسكو 24 ...</td>\n      <td>1</td>\n    </tr>\n    <tr>\n      <th>2</th>\n      <td>زاكروس عربية أربيل أعلنت التربية الاتحادية الا...</td>\n      <td>1</td>\n    </tr>\n    <tr>\n      <th>3</th>\n      <td>عمان 23 رجب 1442 هـ الموافق 07 2021 واسأعلنت و...</td>\n      <td>1</td>\n    </tr>\n    <tr>\n      <th>4</th>\n      <td>المستقلةأحمد عبدالله أعلن المستشار الإعلامي لل...</td>\n      <td>0</td>\n    </tr>\n  </tbody>\n</table>\n</div>"
          },
          "metadata": {}
        }
      ]
    },
    {
      "cell_type": "code",
      "source": [
        "final_df_shuffled=final_df_shuffled.iloc[:30000]"
      ],
      "metadata": {
        "execution": {
          "iopub.status.busy": "2024-05-03T17:29:26.677415Z",
          "iopub.execute_input": "2024-05-03T17:29:26.677771Z",
          "iopub.status.idle": "2024-05-03T17:29:26.685111Z",
          "shell.execute_reply.started": "2024-05-03T17:29:26.677723Z",
          "shell.execute_reply": "2024-05-03T17:29:26.684170Z"
        },
        "trusted": true,
        "id": "EOusmagfwS_c"
      },
      "execution_count": null,
      "outputs": []
    },
    {
      "cell_type": "markdown",
      "source": [
        "# MAKING THE BI-LSTM MODEL"
      ],
      "metadata": {
        "id": "yKGzGmR2wS_c"
      }
    },
    {
      "cell_type": "code",
      "source": [
        "# Data Preparation\n",
        "X = merged_df['text']\n",
        "y = merged_df['label']"
      ],
      "metadata": {
        "execution": {
          "iopub.status.busy": "2024-05-03T17:29:26.686180Z",
          "iopub.execute_input": "2024-05-03T17:29:26.686466Z",
          "iopub.status.idle": "2024-05-03T17:29:26.746952Z",
          "shell.execute_reply.started": "2024-05-03T17:29:26.686432Z",
          "shell.execute_reply": "2024-05-03T17:29:26.746085Z"
        },
        "trusted": true,
        "id": "HgittOpHwS_c"
      },
      "execution_count": null,
      "outputs": []
    },
    {
      "cell_type": "code",
      "source": [
        "\"\"\"\n",
        "# Remove Arabic stopwords\n",
        "X = X.apply(lambda text: ' '.join([word for word in text.split() if word not in stop_words]))\n",
        "\"\"\""
      ],
      "metadata": {
        "execution": {
          "iopub.status.busy": "2024-05-03T17:29:26.753020Z",
          "iopub.execute_input": "2024-05-03T17:29:26.753339Z",
          "iopub.status.idle": "2024-05-03T17:29:26.759172Z",
          "shell.execute_reply.started": "2024-05-03T17:29:26.753310Z",
          "shell.execute_reply": "2024-05-03T17:29:26.758351Z"
        },
        "trusted": true,
        "id": "KPhwljL2wS_c",
        "outputId": "f0c9173a-54a8-4963-fd38-d5c9657dd809"
      },
      "execution_count": null,
      "outputs": [
        {
          "execution_count": 88,
          "output_type": "execute_result",
          "data": {
            "text/plain": "\"\\n# Remove Arabic stopwords\\nX = X.apply(lambda text: ' '.join([word for word in text.split() if word not in stop_words]))\\n\""
          },
          "metadata": {}
        }
      ]
    },
    {
      "cell_type": "code",
      "source": [
        "# Use LabelEncoder to convert labels to numerical format\n",
        "label_encoder = LabelEncoder()\n",
        "y_encoded = label_encoder.fit_transform(y)"
      ],
      "metadata": {
        "execution": {
          "iopub.status.busy": "2024-05-03T17:29:26.760238Z",
          "iopub.execute_input": "2024-05-03T17:29:26.760569Z",
          "iopub.status.idle": "2024-05-03T17:29:26.855215Z",
          "shell.execute_reply.started": "2024-05-03T17:29:26.760541Z",
          "shell.execute_reply": "2024-05-03T17:29:26.854448Z"
        },
        "trusted": true,
        "id": "BNaqIx8nwS_c"
      },
      "execution_count": null,
      "outputs": []
    },
    {
      "cell_type": "code",
      "source": [
        "# Split into training and testing sets\n",
        "X_train, X_test, y_train, y_test = train_test_split(X, y_encoded, test_size=0.2, random_state=42)"
      ],
      "metadata": {
        "execution": {
          "iopub.status.busy": "2024-05-03T17:29:26.856276Z",
          "iopub.execute_input": "2024-05-03T17:29:26.856610Z",
          "iopub.status.idle": "2024-05-03T17:29:27.142396Z",
          "shell.execute_reply.started": "2024-05-03T17:29:26.856582Z",
          "shell.execute_reply": "2024-05-03T17:29:27.141372Z"
        },
        "trusted": true,
        "id": "Bb7sqCf-wS_c"
      },
      "execution_count": null,
      "outputs": []
    },
    {
      "cell_type": "code",
      "source": [
        "# Tokenization and Padding\n",
        "max_vocab = 10000\n",
        "tokenizer = Tokenizer(num_words=max_vocab)\n",
        "tokenizer.fit_on_texts(X_train)"
      ],
      "metadata": {
        "execution": {
          "iopub.status.busy": "2024-05-03T17:29:27.144391Z",
          "iopub.execute_input": "2024-05-03T17:29:27.144779Z",
          "iopub.status.idle": "2024-05-03T17:31:33.490198Z",
          "shell.execute_reply.started": "2024-05-03T17:29:27.144745Z",
          "shell.execute_reply": "2024-05-03T17:31:33.489354Z"
        },
        "trusted": true,
        "id": "yl-H3HLdwS_d"
      },
      "execution_count": null,
      "outputs": []
    },
    {
      "cell_type": "code",
      "source": [
        "X_train_sequences = tokenizer.texts_to_sequences(X_train)\n",
        "X_test_sequences = tokenizer.texts_to_sequences(X_test)"
      ],
      "metadata": {
        "execution": {
          "iopub.status.busy": "2024-05-03T17:31:33.491730Z",
          "iopub.execute_input": "2024-05-03T17:31:33.492109Z",
          "iopub.status.idle": "2024-05-03T17:33:30.351288Z",
          "shell.execute_reply.started": "2024-05-03T17:31:33.492073Z",
          "shell.execute_reply": "2024-05-03T17:33:30.350462Z"
        },
        "trusted": true,
        "id": "re9Rlj4pwS_d"
      },
      "execution_count": null,
      "outputs": []
    },
    {
      "cell_type": "code",
      "source": [
        "max_sequence_length = 128   # Set an appropriate value\n",
        "X_train_padded = pad_sequences(X_train_sequences, maxlen=max_sequence_length, padding='post')\n",
        "X_test_padded = pad_sequences(X_test_sequences, maxlen=max_sequence_length, padding='post')"
      ],
      "metadata": {
        "execution": {
          "iopub.status.busy": "2024-05-03T17:41:24.641941Z",
          "iopub.execute_input": "2024-05-03T17:41:24.642598Z",
          "iopub.status.idle": "2024-05-03T17:41:28.567306Z",
          "shell.execute_reply.started": "2024-05-03T17:41:24.642566Z",
          "shell.execute_reply": "2024-05-03T17:41:28.566447Z"
        },
        "trusted": true,
        "id": "6mQ-MxO_wS_d"
      },
      "execution_count": null,
      "outputs": []
    },
    {
      "cell_type": "code",
      "source": [
        " \"\"\"\n",
        "# LSTM Model\n",
        "model = Sequential()\n",
        "model.add(Embedding(input_dim=len(tokenizer.word_index) + 1, output_dim=100, input_length=max_sequence_length))\n",
        "model.add(SpatialDropout1D(0.2))  # Dropout layer for regularization\n",
        "model.add(LSTM(units=64, return_sequences=True))\n",
        "model.add(LSTM(units=64))\n",
        "model.add(Dense(units=len(np.unique(y_encoded)), activation='softmax'))\n",
        " \"\"\""
      ],
      "metadata": {
        "execution": {
          "iopub.status.busy": "2024-05-03T17:41:40.902767Z",
          "iopub.execute_input": "2024-05-03T17:41:40.903132Z",
          "iopub.status.idle": "2024-05-03T17:41:40.910407Z",
          "shell.execute_reply.started": "2024-05-03T17:41:40.903102Z",
          "shell.execute_reply": "2024-05-03T17:41:40.909196Z"
        },
        "trusted": true,
        "id": "emNxY-xKwS_d",
        "outputId": "72b2777e-881d-4588-e91a-02c840418a60"
      },
      "execution_count": null,
      "outputs": [
        {
          "traceback": [
            "\u001b[0;36m  Cell \u001b[0;32mIn[108], line 9\u001b[0;36m\u001b[0m\n\u001b[0;31m    \"\"\"\u001b[0m\n\u001b[0m    ^\u001b[0m\n\u001b[0;31mSyntaxError\u001b[0m\u001b[0;31m:\u001b[0m incomplete input\n"
          ],
          "ename": "SyntaxError",
          "evalue": "incomplete input (2898325610.py, line 9)",
          "output_type": "error"
        }
      ]
    },
    {
      "cell_type": "code",
      "source": [
        "\n",
        "# BiLSTM Model\n",
        "model = Sequential()\n",
        "model.add(Embedding(input_dim=len(tokenizer.word_index) + 1, output_dim=100, input_length=max_sequence_length))\n",
        "model.add(SpatialDropout1D(0.2))\n",
        "\n",
        "# Adding Bidirectional LSTM layers\n",
        "for _ in range(8):\n",
        "    model.add(Bidirectional(LSTM(units=64, return_sequences=True)))\n",
        "\n",
        "model.add(Bidirectional(LSTM(units=64)))\n",
        "model.add(Dense(units=len(np.unique(y_encoded)), activation='softmax'))\n"
      ],
      "metadata": {
        "execution": {
          "iopub.status.busy": "2024-05-03T17:41:54.880171Z",
          "iopub.execute_input": "2024-05-03T17:41:54.880889Z",
          "iopub.status.idle": "2024-05-03T17:41:55.001340Z",
          "shell.execute_reply.started": "2024-05-03T17:41:54.880855Z",
          "shell.execute_reply": "2024-05-03T17:41:55.000518Z"
        },
        "trusted": true,
        "id": "s2FI6bOYwS_d"
      },
      "execution_count": null,
      "outputs": []
    },
    {
      "cell_type": "code",
      "source": [
        "# Compile the Model\n",
        "model.compile(loss='sparse_categorical_crossentropy',\n",
        "              optimizer=tf.keras.optimizers.Adam(1e-4),\n",
        "              metrics=['accuracy'])"
      ],
      "metadata": {
        "execution": {
          "iopub.status.busy": "2024-05-03T17:41:57.700473Z",
          "iopub.execute_input": "2024-05-03T17:41:57.701324Z",
          "iopub.status.idle": "2024-05-03T17:41:57.710884Z",
          "shell.execute_reply.started": "2024-05-03T17:41:57.701292Z",
          "shell.execute_reply": "2024-05-03T17:41:57.709852Z"
        },
        "trusted": true,
        "id": "493_MOoTwS_m"
      },
      "execution_count": null,
      "outputs": []
    },
    {
      "cell_type": "code",
      "source": [
        "# Print the Model Summary\n",
        "model.summary()"
      ],
      "metadata": {
        "execution": {
          "iopub.status.busy": "2024-05-03T17:41:59.773649Z",
          "iopub.execute_input": "2024-05-03T17:41:59.774519Z",
          "iopub.status.idle": "2024-05-03T17:41:59.799337Z",
          "shell.execute_reply.started": "2024-05-03T17:41:59.774471Z",
          "shell.execute_reply": "2024-05-03T17:41:59.798493Z"
        },
        "trusted": true,
        "id": "EC-oiIwTwS_m",
        "outputId": "12823bbf-c070-4a9b-ad4c-7f689ef2d2c5"
      },
      "execution_count": null,
      "outputs": [
        {
          "output_type": "display_data",
          "data": {
            "text/plain": "\u001b[1mModel: \"sequential_7\"\u001b[0m\n",
            "text/html": "<pre style=\"white-space:pre;overflow-x:auto;line-height:normal;font-family:Menlo,'DejaVu Sans Mono',consolas,'Courier New',monospace\"><span style=\"font-weight: bold\">Model: \"sequential_7\"</span>\n</pre>\n"
          },
          "metadata": {}
        },
        {
          "output_type": "display_data",
          "data": {
            "text/plain": "┏━━━━━━━━━━━━━━━━━━━━━━━━━━━━━━━━━┳━━━━━━━━━━━━━━━━━━━━━━━━┳━━━━━━━━━━━━━━━┓\n┃\u001b[1m \u001b[0m\u001b[1mLayer (type)                   \u001b[0m\u001b[1m \u001b[0m┃\u001b[1m \u001b[0m\u001b[1mOutput Shape          \u001b[0m\u001b[1m \u001b[0m┃\u001b[1m \u001b[0m\u001b[1m      Param #\u001b[0m\u001b[1m \u001b[0m┃\n┡━━━━━━━━━━━━━━━━━━━━━━━━━━━━━━━━━╇━━━━━━━━━━━━━━━━━━━━━━━━╇━━━━━━━━━━━━━━━┩\n│ embedding_7 (\u001b[38;5;33mEmbedding\u001b[0m)         │ ?                      │   \u001b[38;5;34m0\u001b[0m (unbuilt) │\n├─────────────────────────────────┼────────────────────────┼───────────────┤\n│ spatial_dropout1d_7             │ ?                      │             \u001b[38;5;34m0\u001b[0m │\n│ (\u001b[38;5;33mSpatialDropout1D\u001b[0m)              │                        │               │\n├─────────────────────────────────┼────────────────────────┼───────────────┤\n│ bidirectional_18                │ ?                      │   \u001b[38;5;34m0\u001b[0m (unbuilt) │\n│ (\u001b[38;5;33mBidirectional\u001b[0m)                 │                        │               │\n├─────────────────────────────────┼────────────────────────┼───────────────┤\n│ bidirectional_19                │ ?                      │   \u001b[38;5;34m0\u001b[0m (unbuilt) │\n│ (\u001b[38;5;33mBidirectional\u001b[0m)                 │                        │               │\n├─────────────────────────────────┼────────────────────────┼───────────────┤\n│ bidirectional_20                │ ?                      │   \u001b[38;5;34m0\u001b[0m (unbuilt) │\n│ (\u001b[38;5;33mBidirectional\u001b[0m)                 │                        │               │\n├─────────────────────────────────┼────────────────────────┼───────────────┤\n│ bidirectional_21                │ ?                      │   \u001b[38;5;34m0\u001b[0m (unbuilt) │\n│ (\u001b[38;5;33mBidirectional\u001b[0m)                 │                        │               │\n├─────────────────────────────────┼────────────────────────┼───────────────┤\n│ bidirectional_22                │ ?                      │   \u001b[38;5;34m0\u001b[0m (unbuilt) │\n│ (\u001b[38;5;33mBidirectional\u001b[0m)                 │                        │               │\n├─────────────────────────────────┼────────────────────────┼───────────────┤\n│ bidirectional_23                │ ?                      │   \u001b[38;5;34m0\u001b[0m (unbuilt) │\n│ (\u001b[38;5;33mBidirectional\u001b[0m)                 │                        │               │\n├─────────────────────────────────┼────────────────────────┼───────────────┤\n│ bidirectional_24                │ ?                      │   \u001b[38;5;34m0\u001b[0m (unbuilt) │\n│ (\u001b[38;5;33mBidirectional\u001b[0m)                 │                        │               │\n├─────────────────────────────────┼────────────────────────┼───────────────┤\n│ bidirectional_25                │ ?                      │   \u001b[38;5;34m0\u001b[0m (unbuilt) │\n│ (\u001b[38;5;33mBidirectional\u001b[0m)                 │                        │               │\n├─────────────────────────────────┼────────────────────────┼───────────────┤\n│ bidirectional_26                │ ?                      │   \u001b[38;5;34m0\u001b[0m (unbuilt) │\n│ (\u001b[38;5;33mBidirectional\u001b[0m)                 │                        │               │\n├─────────────────────────────────┼────────────────────────┼───────────────┤\n│ dense_7 (\u001b[38;5;33mDense\u001b[0m)                 │ ?                      │   \u001b[38;5;34m0\u001b[0m (unbuilt) │\n└─────────────────────────────────┴────────────────────────┴───────────────┘\n",
            "text/html": "<pre style=\"white-space:pre;overflow-x:auto;line-height:normal;font-family:Menlo,'DejaVu Sans Mono',consolas,'Courier New',monospace\">┏━━━━━━━━━━━━━━━━━━━━━━━━━━━━━━━━━┳━━━━━━━━━━━━━━━━━━━━━━━━┳━━━━━━━━━━━━━━━┓\n┃<span style=\"font-weight: bold\"> Layer (type)                    </span>┃<span style=\"font-weight: bold\"> Output Shape           </span>┃<span style=\"font-weight: bold\">       Param # </span>┃\n┡━━━━━━━━━━━━━━━━━━━━━━━━━━━━━━━━━╇━━━━━━━━━━━━━━━━━━━━━━━━╇━━━━━━━━━━━━━━━┩\n│ embedding_7 (<span style=\"color: #0087ff; text-decoration-color: #0087ff\">Embedding</span>)         │ ?                      │   <span style=\"color: #00af00; text-decoration-color: #00af00\">0</span> (unbuilt) │\n├─────────────────────────────────┼────────────────────────┼───────────────┤\n│ spatial_dropout1d_7             │ ?                      │             <span style=\"color: #00af00; text-decoration-color: #00af00\">0</span> │\n│ (<span style=\"color: #0087ff; text-decoration-color: #0087ff\">SpatialDropout1D</span>)              │                        │               │\n├─────────────────────────────────┼────────────────────────┼───────────────┤\n│ bidirectional_18                │ ?                      │   <span style=\"color: #00af00; text-decoration-color: #00af00\">0</span> (unbuilt) │\n│ (<span style=\"color: #0087ff; text-decoration-color: #0087ff\">Bidirectional</span>)                 │                        │               │\n├─────────────────────────────────┼────────────────────────┼───────────────┤\n│ bidirectional_19                │ ?                      │   <span style=\"color: #00af00; text-decoration-color: #00af00\">0</span> (unbuilt) │\n│ (<span style=\"color: #0087ff; text-decoration-color: #0087ff\">Bidirectional</span>)                 │                        │               │\n├─────────────────────────────────┼────────────────────────┼───────────────┤\n│ bidirectional_20                │ ?                      │   <span style=\"color: #00af00; text-decoration-color: #00af00\">0</span> (unbuilt) │\n│ (<span style=\"color: #0087ff; text-decoration-color: #0087ff\">Bidirectional</span>)                 │                        │               │\n├─────────────────────────────────┼────────────────────────┼───────────────┤\n│ bidirectional_21                │ ?                      │   <span style=\"color: #00af00; text-decoration-color: #00af00\">0</span> (unbuilt) │\n│ (<span style=\"color: #0087ff; text-decoration-color: #0087ff\">Bidirectional</span>)                 │                        │               │\n├─────────────────────────────────┼────────────────────────┼───────────────┤\n│ bidirectional_22                │ ?                      │   <span style=\"color: #00af00; text-decoration-color: #00af00\">0</span> (unbuilt) │\n│ (<span style=\"color: #0087ff; text-decoration-color: #0087ff\">Bidirectional</span>)                 │                        │               │\n├─────────────────────────────────┼────────────────────────┼───────────────┤\n│ bidirectional_23                │ ?                      │   <span style=\"color: #00af00; text-decoration-color: #00af00\">0</span> (unbuilt) │\n│ (<span style=\"color: #0087ff; text-decoration-color: #0087ff\">Bidirectional</span>)                 │                        │               │\n├─────────────────────────────────┼────────────────────────┼───────────────┤\n│ bidirectional_24                │ ?                      │   <span style=\"color: #00af00; text-decoration-color: #00af00\">0</span> (unbuilt) │\n│ (<span style=\"color: #0087ff; text-decoration-color: #0087ff\">Bidirectional</span>)                 │                        │               │\n├─────────────────────────────────┼────────────────────────┼───────────────┤\n│ bidirectional_25                │ ?                      │   <span style=\"color: #00af00; text-decoration-color: #00af00\">0</span> (unbuilt) │\n│ (<span style=\"color: #0087ff; text-decoration-color: #0087ff\">Bidirectional</span>)                 │                        │               │\n├─────────────────────────────────┼────────────────────────┼───────────────┤\n│ bidirectional_26                │ ?                      │   <span style=\"color: #00af00; text-decoration-color: #00af00\">0</span> (unbuilt) │\n│ (<span style=\"color: #0087ff; text-decoration-color: #0087ff\">Bidirectional</span>)                 │                        │               │\n├─────────────────────────────────┼────────────────────────┼───────────────┤\n│ dense_7 (<span style=\"color: #0087ff; text-decoration-color: #0087ff\">Dense</span>)                 │ ?                      │   <span style=\"color: #00af00; text-decoration-color: #00af00\">0</span> (unbuilt) │\n└─────────────────────────────────┴────────────────────────┴───────────────┘\n</pre>\n"
          },
          "metadata": {}
        },
        {
          "output_type": "display_data",
          "data": {
            "text/plain": "\u001b[1m Total params: \u001b[0m\u001b[38;5;34m0\u001b[0m (0.00 B)\n",
            "text/html": "<pre style=\"white-space:pre;overflow-x:auto;line-height:normal;font-family:Menlo,'DejaVu Sans Mono',consolas,'Courier New',monospace\"><span style=\"font-weight: bold\"> Total params: </span><span style=\"color: #00af00; text-decoration-color: #00af00\">0</span> (0.00 B)\n</pre>\n"
          },
          "metadata": {}
        },
        {
          "output_type": "display_data",
          "data": {
            "text/plain": "\u001b[1m Trainable params: \u001b[0m\u001b[38;5;34m0\u001b[0m (0.00 B)\n",
            "text/html": "<pre style=\"white-space:pre;overflow-x:auto;line-height:normal;font-family:Menlo,'DejaVu Sans Mono',consolas,'Courier New',monospace\"><span style=\"font-weight: bold\"> Trainable params: </span><span style=\"color: #00af00; text-decoration-color: #00af00\">0</span> (0.00 B)\n</pre>\n"
          },
          "metadata": {}
        },
        {
          "output_type": "display_data",
          "data": {
            "text/plain": "\u001b[1m Non-trainable params: \u001b[0m\u001b[38;5;34m0\u001b[0m (0.00 B)\n",
            "text/html": "<pre style=\"white-space:pre;overflow-x:auto;line-height:normal;font-family:Menlo,'DejaVu Sans Mono',consolas,'Courier New',monospace\"><span style=\"font-weight: bold\"> Non-trainable params: </span><span style=\"color: #00af00; text-decoration-color: #00af00\">0</span> (0.00 B)\n</pre>\n"
          },
          "metadata": {}
        }
      ]
    },
    {
      "cell_type": "code",
      "source": [
        "\n",
        "# Check if GPU is available\n",
        "if tf.test.gpu_device_name():\n",
        "    print('Default GPU Device: {}'.format(tf.test.gpu_device_name()))\n",
        "else:\n",
        "    print(\"GPU not found. Training on CPU.\")\n",
        "\n",
        "# Train the Model\n",
        "early_stop = tf.keras.callbacks.EarlyStopping(monitor='val_loss', patience=2, restore_best_weights=True)\n",
        "\n",
        "# Ensure the model is using the GPU if available\n",
        "with tf.device('/device:GPU:0'):\n",
        "    model.fit(X_train_padded, y_train, epochs=10, validation_split=0.2, batch_size=128, shuffle=True, callbacks=[early_stop])\n"
      ],
      "metadata": {
        "execution": {
          "iopub.status.busy": "2024-05-03T17:42:03.280856Z",
          "iopub.execute_input": "2024-05-03T17:42:03.281448Z",
          "iopub.status.idle": "2024-05-03T18:24:03.036988Z",
          "shell.execute_reply.started": "2024-05-03T17:42:03.281419Z",
          "shell.execute_reply": "2024-05-03T18:24:03.036020Z"
        },
        "trusted": true,
        "id": "2npH3I4XwS_n",
        "outputId": "0dd672cb-fa17-45a6-ea4a-780bc7312255"
      },
      "execution_count": null,
      "outputs": [
        {
          "name": "stdout",
          "text": "Default GPU Device: /device:GPU:0\nEpoch 1/10\n\u001b[1m1868/1868\u001b[0m \u001b[32m━━━━━━━━━━━━━━━━━━━━\u001b[0m\u001b[37m\u001b[0m \u001b[1m380s\u001b[0m 192ms/step - accuracy: 0.6667 - loss: 0.5731 - val_accuracy: 0.7530 - val_loss: 0.4554\nEpoch 2/10\n\u001b[1m1868/1868\u001b[0m \u001b[32m━━━━━━━━━━━━━━━━━━━━\u001b[0m\u001b[37m\u001b[0m \u001b[1m357s\u001b[0m 191ms/step - accuracy: 0.7702 - loss: 0.4343 - val_accuracy: 0.7667 - val_loss: 0.4352\nEpoch 3/10\n\u001b[1m1868/1868\u001b[0m \u001b[32m━━━━━━━━━━━━━━━━━━━━\u001b[0m\u001b[37m\u001b[0m \u001b[1m356s\u001b[0m 191ms/step - accuracy: 0.7880 - loss: 0.4084 - val_accuracy: 0.7739 - val_loss: 0.4256\nEpoch 4/10\n\u001b[1m1868/1868\u001b[0m \u001b[32m━━━━━━━━━━━━━━━━━━━━\u001b[0m\u001b[37m\u001b[0m \u001b[1m357s\u001b[0m 191ms/step - accuracy: 0.8004 - loss: 0.3881 - val_accuracy: 0.7726 - val_loss: 0.4234\nEpoch 5/10\n\u001b[1m1868/1868\u001b[0m \u001b[32m━━━━━━━━━━━━━━━━━━━━\u001b[0m\u001b[37m\u001b[0m \u001b[1m356s\u001b[0m 191ms/step - accuracy: 0.8134 - loss: 0.3665 - val_accuracy: 0.7742 - val_loss: 0.4231\nEpoch 6/10\n\u001b[1m1868/1868\u001b[0m \u001b[32m━━━━━━━━━━━━━━━━━━━━\u001b[0m\u001b[37m\u001b[0m \u001b[1m356s\u001b[0m 191ms/step - accuracy: 0.8249 - loss: 0.3493 - val_accuracy: 0.7762 - val_loss: 0.4346\nEpoch 7/10\n\u001b[1m1868/1868\u001b[0m \u001b[32m━━━━━━━━━━━━━━━━━━━━\u001b[0m\u001b[37m\u001b[0m \u001b[1m356s\u001b[0m 190ms/step - accuracy: 0.8379 - loss: 0.3292 - val_accuracy: 0.7788 - val_loss: 0.4345\n",
          "output_type": "stream"
        }
      ]
    },
    {
      "cell_type": "code",
      "source": [
        "\"\"\"\n",
        "# Custom metrics functions\n",
        "#precision_m = tf.keras.metrics.Precision()\n",
        "#recall_m = tf.keras.metrics.Recall()\n",
        "#f1_m = tf.keras.metrics.F1Score(average='weighted')\n",
        "\n",
        "# Check if GPU is available\n",
        "if tf.test.gpu_device_name():\n",
        "    print('Default GPU Device: {}'.format(tf.test.gpu_device_name()))\n",
        "else:\n",
        "    print(\"GPU not found. Training on CPU.\")\n",
        "\n",
        "# Train the Model\n",
        "early_stop = tf.keras.callbacks.EarlyStopping(monitor='val_loss', patience=2, restore_best_weights=True)\n",
        "\n",
        "# Ensure the model is using the GPU if available\n",
        "with tf.device('/device:GPU:0'):\n",
        "    model.compile(loss='categorical_crossentropy', optimizer='adam',\n",
        "                  metrics=['accuracy', precision_m, recall_m, f1_m])\n",
        "    model.fit(X_train_padded, y_train, epochs=10, validation_split=0.2, batch_size=128, shuffle=True, callbacks=[early_stop])\n",
        "    \"\"\"\n"
      ],
      "metadata": {
        "execution": {
          "iopub.status.busy": "2024-05-03T17:33:34.308829Z",
          "iopub.execute_input": "2024-05-03T17:33:34.309094Z",
          "iopub.status.idle": "2024-05-03T17:33:35.003319Z",
          "shell.execute_reply.started": "2024-05-03T17:33:34.309072Z",
          "shell.execute_reply": "2024-05-03T17:33:35.002012Z"
        },
        "trusted": true,
        "id": "Pt7Q8bL0wS_n",
        "outputId": "b6129102-4ffd-4429-93b8-a14f12f9196f"
      },
      "execution_count": null,
      "outputs": [
        {
          "name": "stdout",
          "text": "Default GPU Device: /device:GPU:0\nEpoch 1/10\n",
          "output_type": "stream"
        },
        {
          "traceback": [
            "\u001b[0;31m---------------------------------------------------------------------------\u001b[0m",
            "\u001b[0;31mValueError\u001b[0m                                Traceback (most recent call last)",
            "Cell \u001b[0;32mIn[99], line 19\u001b[0m\n\u001b[1;32m     16\u001b[0m \u001b[38;5;28;01mwith\u001b[39;00m tf\u001b[38;5;241m.\u001b[39mdevice(\u001b[38;5;124m'\u001b[39m\u001b[38;5;124m/device:GPU:0\u001b[39m\u001b[38;5;124m'\u001b[39m):\n\u001b[1;32m     17\u001b[0m     model\u001b[38;5;241m.\u001b[39mcompile(loss\u001b[38;5;241m=\u001b[39m\u001b[38;5;124m'\u001b[39m\u001b[38;5;124mcategorical_crossentropy\u001b[39m\u001b[38;5;124m'\u001b[39m, optimizer\u001b[38;5;241m=\u001b[39m\u001b[38;5;124m'\u001b[39m\u001b[38;5;124madam\u001b[39m\u001b[38;5;124m'\u001b[39m, \n\u001b[1;32m     18\u001b[0m                   metrics\u001b[38;5;241m=\u001b[39m[\u001b[38;5;124m'\u001b[39m\u001b[38;5;124maccuracy\u001b[39m\u001b[38;5;124m'\u001b[39m, precision_m, recall_m, f1_m])\n\u001b[0;32m---> 19\u001b[0m     \u001b[43mmodel\u001b[49m\u001b[38;5;241;43m.\u001b[39;49m\u001b[43mfit\u001b[49m\u001b[43m(\u001b[49m\u001b[43mX_train_padded\u001b[49m\u001b[43m,\u001b[49m\u001b[43m \u001b[49m\u001b[43my_train\u001b[49m\u001b[43m,\u001b[49m\u001b[43m \u001b[49m\u001b[43mepochs\u001b[49m\u001b[38;5;241;43m=\u001b[39;49m\u001b[38;5;241;43m10\u001b[39;49m\u001b[43m,\u001b[49m\u001b[43m \u001b[49m\u001b[43mvalidation_split\u001b[49m\u001b[38;5;241;43m=\u001b[39;49m\u001b[38;5;241;43m0.2\u001b[39;49m\u001b[43m,\u001b[49m\u001b[43m \u001b[49m\u001b[43mbatch_size\u001b[49m\u001b[38;5;241;43m=\u001b[39;49m\u001b[38;5;241;43m128\u001b[39;49m\u001b[43m,\u001b[49m\u001b[43m \u001b[49m\u001b[43mshuffle\u001b[49m\u001b[38;5;241;43m=\u001b[39;49m\u001b[38;5;28;43;01mTrue\u001b[39;49;00m\u001b[43m,\u001b[49m\u001b[43m \u001b[49m\u001b[43mcallbacks\u001b[49m\u001b[38;5;241;43m=\u001b[39;49m\u001b[43m[\u001b[49m\u001b[43mearly_stop\u001b[49m\u001b[43m]\u001b[49m\u001b[43m)\u001b[49m\n",
            "File \u001b[0;32m/opt/conda/lib/python3.10/site-packages/keras/src/utils/traceback_utils.py:122\u001b[0m, in \u001b[0;36mfilter_traceback.<locals>.error_handler\u001b[0;34m(*args, **kwargs)\u001b[0m\n\u001b[1;32m    119\u001b[0m     filtered_tb \u001b[38;5;241m=\u001b[39m _process_traceback_frames(e\u001b[38;5;241m.\u001b[39m__traceback__)\n\u001b[1;32m    120\u001b[0m     \u001b[38;5;66;03m# To get the full stack trace, call:\u001b[39;00m\n\u001b[1;32m    121\u001b[0m     \u001b[38;5;66;03m# `keras.config.disable_traceback_filtering()`\u001b[39;00m\n\u001b[0;32m--> 122\u001b[0m     \u001b[38;5;28;01mraise\u001b[39;00m e\u001b[38;5;241m.\u001b[39mwith_traceback(filtered_tb) \u001b[38;5;28;01mfrom\u001b[39;00m \u001b[38;5;28;01mNone\u001b[39;00m\n\u001b[1;32m    123\u001b[0m \u001b[38;5;28;01mfinally\u001b[39;00m:\n\u001b[1;32m    124\u001b[0m     \u001b[38;5;28;01mdel\u001b[39;00m filtered_tb\n",
            "File \u001b[0;32m/opt/conda/lib/python3.10/site-packages/keras/src/backend/tensorflow/nn.py:572\u001b[0m, in \u001b[0;36mcategorical_crossentropy\u001b[0;34m(target, output, from_logits, axis)\u001b[0m\n\u001b[1;32m    566\u001b[0m     \u001b[38;5;28;01mraise\u001b[39;00m \u001b[38;5;167;01mValueError\u001b[39;00m(\n\u001b[1;32m    567\u001b[0m         \u001b[38;5;124m\"\u001b[39m\u001b[38;5;124mArguments `target` and `output` must be at least rank 1. \u001b[39m\u001b[38;5;124m\"\u001b[39m\n\u001b[1;32m    568\u001b[0m         \u001b[38;5;124m\"\u001b[39m\u001b[38;5;124mReceived: \u001b[39m\u001b[38;5;124m\"\u001b[39m\n\u001b[1;32m    569\u001b[0m         \u001b[38;5;124mf\u001b[39m\u001b[38;5;124m\"\u001b[39m\u001b[38;5;124mtarget.shape=\u001b[39m\u001b[38;5;132;01m{\u001b[39;00mtarget\u001b[38;5;241m.\u001b[39mshape\u001b[38;5;132;01m}\u001b[39;00m\u001b[38;5;124m, output.shape=\u001b[39m\u001b[38;5;132;01m{\u001b[39;00moutput\u001b[38;5;241m.\u001b[39mshape\u001b[38;5;132;01m}\u001b[39;00m\u001b[38;5;124m\"\u001b[39m\n\u001b[1;32m    570\u001b[0m     )\n\u001b[1;32m    571\u001b[0m \u001b[38;5;28;01mif\u001b[39;00m \u001b[38;5;28mlen\u001b[39m(target\u001b[38;5;241m.\u001b[39mshape) \u001b[38;5;241m!=\u001b[39m \u001b[38;5;28mlen\u001b[39m(output\u001b[38;5;241m.\u001b[39mshape):\n\u001b[0;32m--> 572\u001b[0m     \u001b[38;5;28;01mraise\u001b[39;00m \u001b[38;5;167;01mValueError\u001b[39;00m(\n\u001b[1;32m    573\u001b[0m         \u001b[38;5;124m\"\u001b[39m\u001b[38;5;124mArguments `target` and `output` must have the same rank \u001b[39m\u001b[38;5;124m\"\u001b[39m\n\u001b[1;32m    574\u001b[0m         \u001b[38;5;124m\"\u001b[39m\u001b[38;5;124m(ndim). Received: \u001b[39m\u001b[38;5;124m\"\u001b[39m\n\u001b[1;32m    575\u001b[0m         \u001b[38;5;124mf\u001b[39m\u001b[38;5;124m\"\u001b[39m\u001b[38;5;124mtarget.shape=\u001b[39m\u001b[38;5;132;01m{\u001b[39;00mtarget\u001b[38;5;241m.\u001b[39mshape\u001b[38;5;132;01m}\u001b[39;00m\u001b[38;5;124m, output.shape=\u001b[39m\u001b[38;5;132;01m{\u001b[39;00moutput\u001b[38;5;241m.\u001b[39mshape\u001b[38;5;132;01m}\u001b[39;00m\u001b[38;5;124m\"\u001b[39m\n\u001b[1;32m    576\u001b[0m     )\n\u001b[1;32m    577\u001b[0m \u001b[38;5;28;01mfor\u001b[39;00m e1, e2 \u001b[38;5;129;01min\u001b[39;00m \u001b[38;5;28mzip\u001b[39m(target\u001b[38;5;241m.\u001b[39mshape, output\u001b[38;5;241m.\u001b[39mshape):\n\u001b[1;32m    578\u001b[0m     \u001b[38;5;28;01mif\u001b[39;00m e1 \u001b[38;5;129;01mis\u001b[39;00m \u001b[38;5;129;01mnot\u001b[39;00m \u001b[38;5;28;01mNone\u001b[39;00m \u001b[38;5;129;01mand\u001b[39;00m e2 \u001b[38;5;129;01mis\u001b[39;00m \u001b[38;5;129;01mnot\u001b[39;00m \u001b[38;5;28;01mNone\u001b[39;00m \u001b[38;5;129;01mand\u001b[39;00m e1 \u001b[38;5;241m!=\u001b[39m e2:\n",
            "\u001b[0;31mValueError\u001b[0m: Arguments `target` and `output` must have the same rank (ndim). Received: target.shape=(None,), output.shape=(None, 2)"
          ],
          "ename": "ValueError",
          "evalue": "Arguments `target` and `output` must have the same rank (ndim). Received: target.shape=(None,), output.shape=(None, 2)",
          "output_type": "error"
        }
      ]
    },
    {
      "cell_type": "code",
      "source": [
        "\"\"\"\n",
        "# Train the Model\n",
        "early_stop = tf.keras.callbacks.EarlyStopping(monitor='val_loss', patience=2, restore_best_weights=True)\n",
        "\n",
        "model.fit(X_train_padded, y_train, epochs=10, validation_split=0.2, batch_size=64, shuffle=True, callbacks=[early_stop])\n",
        "\"\"\""
      ],
      "metadata": {
        "execution": {
          "iopub.status.busy": "2024-05-03T17:33:35.004132Z",
          "iopub.status.idle": "2024-05-03T17:33:35.004451Z",
          "shell.execute_reply.started": "2024-05-03T17:33:35.004295Z",
          "shell.execute_reply": "2024-05-03T17:33:35.004309Z"
        },
        "trusted": true,
        "id": "tvmelWuewS_n"
      },
      "execution_count": null,
      "outputs": []
    },
    {
      "cell_type": "code",
      "source": [
        "# Evaluate the Model\n",
        "y_pred_probs = model.predict(X_test_padded)\n",
        "y_pred = np.argmax(y_pred_probs, axis=1)\n",
        "\n",
        "accuracy = accuracy_score(y_test, y_pred)\n",
        "print(f\"Test Accuracy: {accuracy:.4f}\")"
      ],
      "metadata": {
        "execution": {
          "iopub.status.busy": "2024-05-03T17:33:35.005639Z",
          "iopub.status.idle": "2024-05-03T17:33:35.005973Z",
          "shell.execute_reply.started": "2024-05-03T17:33:35.005812Z",
          "shell.execute_reply": "2024-05-03T17:33:35.005826Z"
        },
        "trusted": true,
        "id": "ZRiKf7vzwS_n"
      },
      "execution_count": null,
      "outputs": []
    },
    {
      "cell_type": "code",
      "source": [
        "# Evaluate other metrics\n",
        "print(classification_report(y_test, y_pred))"
      ],
      "metadata": {
        "execution": {
          "iopub.status.busy": "2024-05-03T17:33:35.007018Z",
          "iopub.status.idle": "2024-05-03T17:33:35.007345Z",
          "shell.execute_reply.started": "2024-05-03T17:33:35.007185Z",
          "shell.execute_reply": "2024-05-03T17:33:35.007199Z"
        },
        "trusted": true,
        "id": "xhG0DUXFwS_n"
      },
      "execution_count": null,
      "outputs": []
    },
    {
      "cell_type": "code",
      "source": [
        "# Confusion Matrix\n",
        "conf_matrix = confusion_matrix(y_test, y_pred)\n",
        "\n",
        "# Plot Confusion Matrix\n",
        "plt.figure(figsize=(8, 6))\n",
        "sns.heatmap(conf_matrix, annot=True, fmt='d', cmap='Blues', xticklabels=label_encoder.classes_, yticklabels=label_encoder.classes_)\n",
        "plt.xlabel('Predicted Labels')\n",
        "plt.ylabel('True Labels')\n",
        "plt.title('Confusion Matrix')\n",
        "plt.show()"
      ],
      "metadata": {
        "execution": {
          "iopub.status.busy": "2024-05-03T17:33:35.008825Z",
          "iopub.status.idle": "2024-05-03T17:33:35.009160Z",
          "shell.execute_reply.started": "2024-05-03T17:33:35.008991Z",
          "shell.execute_reply": "2024-05-03T17:33:35.009005Z"
        },
        "trusted": true,
        "id": "_iCI-PSZwS_o"
      },
      "execution_count": null,
      "outputs": []
    }
  ]
}