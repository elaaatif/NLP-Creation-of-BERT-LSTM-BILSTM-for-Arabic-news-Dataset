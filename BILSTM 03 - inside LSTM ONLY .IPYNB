{
 "cells": [
  {
   "cell_type": "code",
   "execution_count": 1,
   "metadata": {},
   "outputs": [
    {
     "name": "stdout",
     "output_type": "stream",
     "text": [
      "WARNING:tensorflow:From C:\\Users\\Latif\\AppData\\Local\\Packages\\PythonSoftwareFoundation.Python.3.11_qbz5n2kfra8p0\\LocalCache\\local-packages\\Python311\\site-packages\\keras\\src\\losses.py:2976: The name tf.losses.sparse_softmax_cross_entropy is deprecated. Please use tf.compat.v1.losses.sparse_softmax_cross_entropy instead.\n",
      "\n"
     ]
    }
   ],
   "source": [
    "import os\n",
    "import json\n",
    "import pandas as pd\n",
    "import numpy as np\n",
    "import matplotlib.pyplot as plt\n",
    "import nltk\n",
    "from nltk.corpus import stopwords\n",
    "from sklearn.model_selection import train_test_split\n",
    "from sklearn.preprocessing import LabelEncoder\n",
    "from sklearn.metrics import accuracy_score, confusion_matrix, classification_report\n",
    "import seaborn as sns\n",
    "import re\n",
    "import tensorflow as tf\n",
    "from tensorflow.keras.models import Sequential\n",
    "from tensorflow.keras.layers import Embedding, LSTM, Dense, SpatialDropout1D\n",
    "from tensorflow.keras.preprocessing.text import Tokenizer\n",
    "from tensorflow.keras.preprocessing.sequence import pad_sequences"
   ]
  },
  {
   "cell_type": "markdown",
   "metadata": {},
   "source": [
    "* READING DATA FRAMES"
   ]
  },
  {
   "cell_type": "code",
   "execution_count": 2,
   "metadata": {},
   "outputs": [],
   "source": [
    "# Read the dataset\n",
    "df1 = pd.read_csv(\"labeled_data.csv\")"
   ]
  },
  {
   "cell_type": "code",
   "execution_count": 3,
   "metadata": {},
   "outputs": [],
   "source": [
    "df1.drop_duplicates(subset=['title','text'], inplace=True)"
   ]
  },
  {
   "cell_type": "code",
   "execution_count": 4,
   "metadata": {},
   "outputs": [
    {
     "data": {
      "text/html": [
       "<div>\n",
       "<style scoped>\n",
       "    .dataframe tbody tr th:only-of-type {\n",
       "        vertical-align: middle;\n",
       "    }\n",
       "\n",
       "    .dataframe tbody tr th {\n",
       "        vertical-align: top;\n",
       "    }\n",
       "\n",
       "    .dataframe thead th {\n",
       "        text-align: right;\n",
       "    }\n",
       "</style>\n",
       "<table border=\"1\" class=\"dataframe\">\n",
       "  <thead>\n",
       "    <tr style=\"text-align: right;\">\n",
       "      <th></th>\n",
       "      <th>title</th>\n",
       "      <th>text</th>\n",
       "      <th>publishing_date</th>\n",
       "      <th>source_num</th>\n",
       "      <th>label</th>\n",
       "    </tr>\n",
       "  </thead>\n",
       "  <tbody>\n",
       "    <tr>\n",
       "      <th>count</th>\n",
       "      <td>373515</td>\n",
       "      <td>373515</td>\n",
       "      <td>373515</td>\n",
       "      <td>373515</td>\n",
       "      <td>373515</td>\n",
       "    </tr>\n",
       "    <tr>\n",
       "      <th>unique</th>\n",
       "      <td>363736</td>\n",
       "      <td>362821</td>\n",
       "      <td>285062</td>\n",
       "      <td>103</td>\n",
       "      <td>2</td>\n",
       "    </tr>\n",
       "    <tr>\n",
       "      <th>top</th>\n",
       "      <td>نصاف بن علية تتلقّى الجرعة الأولى من لقاح فايزر</td>\n",
       "      <td>احترام خصوصيتك هو أولويتنا\\n\\nنحن نستخدم ملفات...</td>\n",
       "      <td>2021-05-19T00:00:00</td>\n",
       "      <td>source_65</td>\n",
       "      <td>credible</td>\n",
       "    </tr>\n",
       "    <tr>\n",
       "      <th>freq</th>\n",
       "      <td>6</td>\n",
       "      <td>797</td>\n",
       "      <td>845</td>\n",
       "      <td>33706</td>\n",
       "      <td>207018</td>\n",
       "    </tr>\n",
       "  </tbody>\n",
       "</table>\n",
       "</div>"
      ],
      "text/plain": [
       "                                                  title  \\\n",
       "count                                            373515   \n",
       "unique                                           363736   \n",
       "top     نصاف بن علية تتلقّى الجرعة الأولى من لقاح فايزر   \n",
       "freq                                                  6   \n",
       "\n",
       "                                                     text  \\\n",
       "count                                              373515   \n",
       "unique                                             362821   \n",
       "top     احترام خصوصيتك هو أولويتنا\\n\\nنحن نستخدم ملفات...   \n",
       "freq                                                  797   \n",
       "\n",
       "            publishing_date source_num     label  \n",
       "count                373515     373515    373515  \n",
       "unique               285062        103         2  \n",
       "top     2021-05-19T00:00:00  source_65  credible  \n",
       "freq                    845      33706    207018  "
      ]
     },
     "execution_count": 4,
     "metadata": {},
     "output_type": "execute_result"
    }
   ],
   "source": [
    "df1.describe()"
   ]
  },
  {
   "cell_type": "code",
   "execution_count": 5,
   "metadata": {},
   "outputs": [
    {
     "name": "stdout",
     "output_type": "stream",
     "text": [
      "                                               title  \\\n",
      "0  المنتخب الوطني المغربي لأقل من 20 سنة يخوض تجم...   \n",
      "1  وزير النقل اعمارة:السرعة عامل مسبب لحوادث السي...   \n",
      "2    ميسي يؤكد أن الفوز بكأس اسبانيا كان \"نقطة تحول\"   \n",
      "3  دبلوماسي مغربي سابق بإسبانيا لـ2M.ma: خطأ مدري...   \n",
      "4  شركتان، فرنسية وبريطانية تعلنان عن نتائج إيجاب...   \n",
      "\n",
      "                                                text      publishing_date  \\\n",
      "0  يخوض المنتخب الوطني المغربي لكرة القدم لأقل من...  2021-05-23T00:00:00   \n",
      "1  ترأس عبد القادر اعمارة، وزير التجهيز و النقل و...  2021-05-22T00:00:00   \n",
      "2  أكد النجم الارجنتيني ليونيل ميسي أن فوز فريقه ...  2021-05-22T00:00:00   \n",
      "3  أكّد الدبلوماسي المغربي السابق بإسبانيا، عبد ا...  2021-05-22T00:00:00   \n",
      "4  أعلنت شركتا سانوفي الفرنسية العملاقة في تصنيع ...  2021-05-17T00:00:00   \n",
      "\n",
      "  source_num     label  \n",
      "0   source_1  credible  \n",
      "1   source_1  credible  \n",
      "2   source_1  credible  \n",
      "3   source_1  credible  \n",
      "4   source_1  credible  \n"
     ]
    }
   ],
   "source": [
    "# Show the head of the DataFrame\n",
    "print(df1.head())"
   ]
  },
  {
   "cell_type": "code",
   "execution_count": 6,
   "metadata": {},
   "outputs": [
    {
     "name": "stdout",
     "output_type": "stream",
     "text": [
      "Distinct label: ['credible' 'not credible']\n"
     ]
    }
   ],
   "source": [
    "#label\n",
    "distinct_label = df1['label'].unique()\n",
    "print(\"Distinct label:\", distinct_label)"
   ]
  },
  {
   "cell_type": "code",
   "execution_count": 7,
   "metadata": {},
   "outputs": [],
   "source": [
    "#preps for merg\n",
    "df1['label'] = df1['label'].map({'credible': 'real', 'not credible': 'fake'})"
   ]
  },
  {
   "cell_type": "code",
   "execution_count": 8,
   "metadata": {},
   "outputs": [],
   "source": [
    "# Read Arabic stop words from text file\n",
    "with open(r\"K:\\STUDIES\\----- M1 AI\\S2\\NLP\\NLP-LAB\\LAB 03\\MODELS\\Arabic stop words .txt\", encoding=\"utf-8\") as file:\n",
    "    arabic_stopwords = set(file.read().splitlines())"
   ]
  },
  {
   "cell_type": "code",
   "execution_count": 9,
   "metadata": {},
   "outputs": [
    {
     "data": {
      "text/plain": [
       "\" \\n# Getting the Arabic stopwords from NLTK\\nstop_words = set(stopwords.words('arabic'))\\n\""
      ]
     },
     "execution_count": 9,
     "metadata": {},
     "output_type": "execute_result"
    }
   ],
   "source": [
    "\"\"\" \n",
    "# Getting the Arabic stopwords from NLTK\n",
    "stop_words = set(stopwords.words('arabic'))\n",
    "\"\"\""
   ]
  },
  {
   "cell_type": "code",
   "execution_count": 10,
   "metadata": {},
   "outputs": [
    {
     "name": "stdout",
     "output_type": "stream",
     "text": [
      "                                                text  \\\n",
      "0  يخوض المنتخب الوطني المغربي لكرة القدم لأقل من...   \n",
      "1  ترأس عبد القادر اعمارة، وزير التجهيز و النقل و...   \n",
      "2  أكد النجم الارجنتيني ليونيل ميسي أن فوز فريقه ...   \n",
      "3  أكّد الدبلوماسي المغربي السابق بإسبانيا، عبد ا...   \n",
      "4  أعلنت شركتا سانوفي الفرنسية العملاقة في تصنيع ...   \n",
      "\n",
      "                                        cleaned_text  \n",
      "0  يخوض المنتخب الوطني المغربي لكرة القدم لأقل 20...  \n",
      "1  ترأس عبد القادر اعمارة وزير التجهيز النقل اللو...  \n",
      "2  أكد النجم الارجنتيني ليونيل ميسي فوز فريقه برش...  \n",
      "3  أكد الدبلوماسي المغربي بإسبانيا عبد الخالق أطر...  \n",
      "4  أعلنت شركتا سانوفي الفرنسية العملاقة تصنيع الأ...  \n"
     ]
    }
   ],
   "source": [
    "# Function to clean the text\n",
    "def clean_text(text):\n",
    "    # Remove links\n",
    "    text = re.sub(r'http\\S+', '', text)\n",
    "    \n",
    "    # Remove emojis and punctuations\n",
    "    text = re.sub(r'[^\\w\\s]', '', text)\n",
    "    \n",
    "    # Remove HTML tags\n",
    "    text = re.sub(r'<[^>]+>', '', text)\n",
    "    \n",
    "    # Remove specific patterns like \":\\n\\n1\"\n",
    "    text = re.sub(r':\\n\\n\\d+', '', text)\n",
    "    \n",
    "    # Remove empty spaces\n",
    "    text = text.strip()\n",
    "    \n",
    "    return text\n",
    "\n",
    "# Clean the text column\n",
    "df1['cleaned_text'] = df1['text'].apply(clean_text)\n",
    "\n",
    "\n",
    "# Function to remove Arabic stop words\n",
    "def remove_stopwords(text):\n",
    "    words = text.split()\n",
    "    filtered_words = [word for word in words if word not in arabic_stopwords]\n",
    "    return ' '.join(filtered_words)\n",
    "\n",
    "# Remove Arabic stop words\n",
    "df1['cleaned_text'] = df1['cleaned_text'].apply(remove_stopwords)\n",
    "\n",
    "# Show the head of the DataFrame with cleaned text\n",
    "print(df1[['text', 'cleaned_text']].head())\n"
   ]
  },
  {
   "cell_type": "code",
   "execution_count": 11,
   "metadata": {},
   "outputs": [
    {
     "name": "stdout",
     "output_type": "stream",
     "text": [
      "                                               title  \\\n",
      "0  المنتخب الوطني المغربي لأقل من 20 سنة يخوض تجم...   \n",
      "1  وزير النقل اعمارة:السرعة عامل مسبب لحوادث السي...   \n",
      "2    ميسي يؤكد أن الفوز بكأس اسبانيا كان \"نقطة تحول\"   \n",
      "3  دبلوماسي مغربي سابق بإسبانيا لـ2M.ma: خطأ مدري...   \n",
      "4  شركتان، فرنسية وبريطانية تعلنان عن نتائج إيجاب...   \n",
      "\n",
      "                                                text      publishing_date  \\\n",
      "0  يخوض المنتخب الوطني المغربي لكرة القدم لأقل من...  2021-05-23T00:00:00   \n",
      "1  ترأس عبد القادر اعمارة، وزير التجهيز و النقل و...  2021-05-22T00:00:00   \n",
      "2  أكد النجم الارجنتيني ليونيل ميسي أن فوز فريقه ...  2021-05-22T00:00:00   \n",
      "3  أكّد الدبلوماسي المغربي السابق بإسبانيا، عبد ا...  2021-05-22T00:00:00   \n",
      "4  أعلنت شركتا سانوفي الفرنسية العملاقة في تصنيع ...  2021-05-17T00:00:00   \n",
      "\n",
      "  source_num label                                       cleaned_text  \n",
      "0   source_1  real  يخوض المنتخب الوطني المغربي لكرة القدم لأقل 20...  \n",
      "1   source_1  real  ترأس عبد القادر اعمارة وزير التجهيز النقل اللو...  \n",
      "2   source_1  real  أكد النجم الارجنتيني ليونيل ميسي فوز فريقه برش...  \n",
      "3   source_1  real  أكد الدبلوماسي المغربي بإسبانيا عبد الخالق أطر...  \n",
      "4   source_1  real  أعلنت شركتا سانوفي الفرنسية العملاقة تصنيع الأ...  \n"
     ]
    }
   ],
   "source": [
    "# Show the head of the DataFrame\n",
    "print(df1.head())\n",
    "#pd.set_option('display.max_colwidth', None)"
   ]
  },
  {
   "cell_type": "code",
   "execution_count": 12,
   "metadata": {},
   "outputs": [
    {
     "data": {
      "text/html": [
       "<div>\n",
       "<style scoped>\n",
       "    .dataframe tbody tr th:only-of-type {\n",
       "        vertical-align: middle;\n",
       "    }\n",
       "\n",
       "    .dataframe tbody tr th {\n",
       "        vertical-align: top;\n",
       "    }\n",
       "\n",
       "    .dataframe thead th {\n",
       "        text-align: right;\n",
       "    }\n",
       "</style>\n",
       "<table border=\"1\" class=\"dataframe\">\n",
       "  <thead>\n",
       "    <tr style=\"text-align: right;\">\n",
       "      <th></th>\n",
       "      <th>title</th>\n",
       "      <th>text</th>\n",
       "      <th>publishing_date</th>\n",
       "      <th>source_num</th>\n",
       "      <th>label</th>\n",
       "      <th>cleaned_text</th>\n",
       "    </tr>\n",
       "  </thead>\n",
       "  <tbody>\n",
       "    <tr>\n",
       "      <th>count</th>\n",
       "      <td>373515</td>\n",
       "      <td>373515</td>\n",
       "      <td>373515</td>\n",
       "      <td>373515</td>\n",
       "      <td>373515</td>\n",
       "      <td>373515</td>\n",
       "    </tr>\n",
       "    <tr>\n",
       "      <th>unique</th>\n",
       "      <td>363736</td>\n",
       "      <td>362821</td>\n",
       "      <td>285062</td>\n",
       "      <td>103</td>\n",
       "      <td>2</td>\n",
       "      <td>360433</td>\n",
       "    </tr>\n",
       "    <tr>\n",
       "      <th>top</th>\n",
       "      <td>نصاف بن علية تتلقّى الجرعة الأولى من لقاح فايزر</td>\n",
       "      <td>احترام خصوصيتك هو أولويتنا\\n\\nنحن نستخدم ملفات...</td>\n",
       "      <td>2021-05-19T00:00:00</td>\n",
       "      <td>source_65</td>\n",
       "      <td>real</td>\n",
       "      <td>احترام خصوصيتك أولويتنا نستخدم ملفات تعريف الا...</td>\n",
       "    </tr>\n",
       "    <tr>\n",
       "      <th>freq</th>\n",
       "      <td>6</td>\n",
       "      <td>797</td>\n",
       "      <td>845</td>\n",
       "      <td>33706</td>\n",
       "      <td>207018</td>\n",
       "      <td>797</td>\n",
       "    </tr>\n",
       "  </tbody>\n",
       "</table>\n",
       "</div>"
      ],
      "text/plain": [
       "                                                  title  \\\n",
       "count                                            373515   \n",
       "unique                                           363736   \n",
       "top     نصاف بن علية تتلقّى الجرعة الأولى من لقاح فايزر   \n",
       "freq                                                  6   \n",
       "\n",
       "                                                     text  \\\n",
       "count                                              373515   \n",
       "unique                                             362821   \n",
       "top     احترام خصوصيتك هو أولويتنا\\n\\nنحن نستخدم ملفات...   \n",
       "freq                                                  797   \n",
       "\n",
       "            publishing_date source_num   label  \\\n",
       "count                373515     373515  373515   \n",
       "unique               285062        103       2   \n",
       "top     2021-05-19T00:00:00  source_65    real   \n",
       "freq                    845      33706  207018   \n",
       "\n",
       "                                             cleaned_text  \n",
       "count                                              373515  \n",
       "unique                                             360433  \n",
       "top     احترام خصوصيتك أولويتنا نستخدم ملفات تعريف الا...  \n",
       "freq                                                  797  "
      ]
     },
     "execution_count": 12,
     "metadata": {},
     "output_type": "execute_result"
    }
   ],
   "source": [
    "df1.describe()"
   ]
  },
  {
   "cell_type": "code",
   "execution_count": 13,
   "metadata": {},
   "outputs": [],
   "source": [
    "df2 = pd.read_csv(\"cleaned_merged_data.csv\")"
   ]
  },
  {
   "cell_type": "code",
   "execution_count": 14,
   "metadata": {},
   "outputs": [
    {
     "data": {
      "text/html": [
       "<div>\n",
       "<style scoped>\n",
       "    .dataframe tbody tr th:only-of-type {\n",
       "        vertical-align: middle;\n",
       "    }\n",
       "\n",
       "    .dataframe tbody tr th {\n",
       "        vertical-align: top;\n",
       "    }\n",
       "\n",
       "    .dataframe thead th {\n",
       "        text-align: right;\n",
       "    }\n",
       "</style>\n",
       "<table border=\"1\" class=\"dataframe\">\n",
       "  <thead>\n",
       "    <tr style=\"text-align: right;\">\n",
       "      <th></th>\n",
       "      <th>Title</th>\n",
       "      <th>Label</th>\n",
       "      <th>Topic</th>\n",
       "      <th>Origine</th>\n",
       "      <th>Article_date</th>\n",
       "      <th>Article_content</th>\n",
       "      <th>Article_correction</th>\n",
       "      <th>Article_content_cleaned</th>\n",
       "      <th>Article_correction_cleaned</th>\n",
       "    </tr>\n",
       "  </thead>\n",
       "  <tbody>\n",
       "    <tr>\n",
       "      <th>0</th>\n",
       "      <td>54 عاما في القضاء.. نهاية حزينة لمعركة مقدسي ح...</td>\n",
       "      <td>real</td>\n",
       "      <td>politics</td>\n",
       "      <td>df1</td>\n",
       "      <td>NaN</td>\n",
       "      <td>القدس المحتلة- لن يتمكن المقدسي سامي درويش في ...</td>\n",
       "      <td>NaN</td>\n",
       "      <td>القدس المحتلة- لن يتمكن المقدسي سامي درويش في ...</td>\n",
       "      <td>NaN</td>\n",
       "    </tr>\n",
       "    <tr>\n",
       "      <th>1</th>\n",
       "      <td>خبراء إيرانيون يشرحون لماذا لا تستعجل طهران با...</td>\n",
       "      <td>real</td>\n",
       "      <td>politics</td>\n",
       "      <td>df1</td>\n",
       "      <td>NaN</td>\n",
       "      <td>طهران- منذ الهجوم الإسرائيلي على القنصلية الإي...</td>\n",
       "      <td>NaN</td>\n",
       "      <td>طهران- منذ الهجوم الإسرائيلي على القنصلية الإي...</td>\n",
       "      <td>NaN</td>\n",
       "    </tr>\n",
       "    <tr>\n",
       "      <th>2</th>\n",
       "      <td>فلسطيني يقود فريق خبراء بإيطاليا لبناء قضية إب...</td>\n",
       "      <td>real</td>\n",
       "      <td>politics</td>\n",
       "      <td>df1</td>\n",
       "      <td>NaN</td>\n",
       "      <td>غادر المحامي الفلسطيني راجي صوراني قطاع غزة رف...</td>\n",
       "      <td>NaN</td>\n",
       "      <td>غادر المحامي الفلسطيني راجي صوراني قطاع غزة رف...</td>\n",
       "      <td>NaN</td>\n",
       "    </tr>\n",
       "    <tr>\n",
       "      <th>3</th>\n",
       "      <td>مستوطنون يهاجمون قرى نابلس بحماية من جنود الاح...</td>\n",
       "      <td>real</td>\n",
       "      <td>politics</td>\n",
       "      <td>df1</td>\n",
       "      <td>NaN</td>\n",
       "      <td>نابلس- لليوم الثاني على التوالي، تتعرض قرية دو...</td>\n",
       "      <td>NaN</td>\n",
       "      <td>نابلس- لليوم الثاني على التوالي، تتعرض قرية دو...</td>\n",
       "      <td>NaN</td>\n",
       "    </tr>\n",
       "    <tr>\n",
       "      <th>4</th>\n",
       "      <td>جدل قانوني حول ترشح جاكوب زوما لانتخابات جنوب ...</td>\n",
       "      <td>real</td>\n",
       "      <td>politics</td>\n",
       "      <td>df1</td>\n",
       "      <td>NaN</td>\n",
       "      <td>بريتوريا- تقدمت اللجنة المستقلة للانتخابات في ...</td>\n",
       "      <td>NaN</td>\n",
       "      <td>بريتوريا- تقدمت اللجنة المستقلة للانتخابات في ...</td>\n",
       "      <td>NaN</td>\n",
       "    </tr>\n",
       "  </tbody>\n",
       "</table>\n",
       "</div>"
      ],
      "text/plain": [
       "                                               Title Label     Topic Origine  \\\n",
       "0  54 عاما في القضاء.. نهاية حزينة لمعركة مقدسي ح...  real  politics     df1   \n",
       "1  خبراء إيرانيون يشرحون لماذا لا تستعجل طهران با...  real  politics     df1   \n",
       "2  فلسطيني يقود فريق خبراء بإيطاليا لبناء قضية إب...  real  politics     df1   \n",
       "3  مستوطنون يهاجمون قرى نابلس بحماية من جنود الاح...  real  politics     df1   \n",
       "4  جدل قانوني حول ترشح جاكوب زوما لانتخابات جنوب ...  real  politics     df1   \n",
       "\n",
       "  Article_date                                    Article_content  \\\n",
       "0          NaN  القدس المحتلة- لن يتمكن المقدسي سامي درويش في ...   \n",
       "1          NaN  طهران- منذ الهجوم الإسرائيلي على القنصلية الإي...   \n",
       "2          NaN  غادر المحامي الفلسطيني راجي صوراني قطاع غزة رف...   \n",
       "3          NaN  نابلس- لليوم الثاني على التوالي، تتعرض قرية دو...   \n",
       "4          NaN  بريتوريا- تقدمت اللجنة المستقلة للانتخابات في ...   \n",
       "\n",
       "  Article_correction                            Article_content_cleaned  \\\n",
       "0                NaN  القدس المحتلة- لن يتمكن المقدسي سامي درويش في ...   \n",
       "1                NaN  طهران- منذ الهجوم الإسرائيلي على القنصلية الإي...   \n",
       "2                NaN  غادر المحامي الفلسطيني راجي صوراني قطاع غزة رف...   \n",
       "3                NaN  نابلس- لليوم الثاني على التوالي، تتعرض قرية دو...   \n",
       "4                NaN  بريتوريا- تقدمت اللجنة المستقلة للانتخابات في ...   \n",
       "\n",
       "  Article_correction_cleaned  \n",
       "0                        NaN  \n",
       "1                        NaN  \n",
       "2                        NaN  \n",
       "3                        NaN  \n",
       "4                        NaN  "
      ]
     },
     "execution_count": 14,
     "metadata": {},
     "output_type": "execute_result"
    }
   ],
   "source": [
    "df2.head()"
   ]
  },
  {
   "cell_type": "code",
   "execution_count": 15,
   "metadata": {},
   "outputs": [
    {
     "data": {
      "text/html": [
       "<div>\n",
       "<style scoped>\n",
       "    .dataframe tbody tr th:only-of-type {\n",
       "        vertical-align: middle;\n",
       "    }\n",
       "\n",
       "    .dataframe tbody tr th {\n",
       "        vertical-align: top;\n",
       "    }\n",
       "\n",
       "    .dataframe thead th {\n",
       "        text-align: right;\n",
       "    }\n",
       "</style>\n",
       "<table border=\"1\" class=\"dataframe\">\n",
       "  <thead>\n",
       "    <tr style=\"text-align: right;\">\n",
       "      <th></th>\n",
       "      <th>Title</th>\n",
       "      <th>Label</th>\n",
       "      <th>Topic</th>\n",
       "      <th>Origine</th>\n",
       "      <th>Article_date</th>\n",
       "      <th>Article_content</th>\n",
       "      <th>Article_correction</th>\n",
       "      <th>Article_content_cleaned</th>\n",
       "      <th>Article_correction_cleaned</th>\n",
       "    </tr>\n",
       "  </thead>\n",
       "  <tbody>\n",
       "    <tr>\n",
       "      <th>count</th>\n",
       "      <td>5734</td>\n",
       "      <td>5735</td>\n",
       "      <td>938</td>\n",
       "      <td>5735</td>\n",
       "      <td>5568</td>\n",
       "      <td>5735</td>\n",
       "      <td>2225</td>\n",
       "      <td>5735</td>\n",
       "      <td>2225</td>\n",
       "    </tr>\n",
       "    <tr>\n",
       "      <th>unique</th>\n",
       "      <td>5734</td>\n",
       "      <td>2</td>\n",
       "      <td>10</td>\n",
       "      <td>2</td>\n",
       "      <td>2927</td>\n",
       "      <td>5717</td>\n",
       "      <td>2225</td>\n",
       "      <td>5717</td>\n",
       "      <td>2225</td>\n",
       "    </tr>\n",
       "    <tr>\n",
       "      <th>top</th>\n",
       "      <td>54 عاما في القضاء.. نهاية حزينة لمعركة مقدسي ح...</td>\n",
       "      <td>fake</td>\n",
       "      <td>sport</td>\n",
       "      <td>df1</td>\n",
       "      <td>May. 19, 2021</td>\n",
       "      <td>['الإدعاء']</td>\n",
       "      <td>\\nبالبحث المباشر في موقع “وزارة الصحة والعمل و...</td>\n",
       "      <td>['الإدعاء']</td>\n",
       "      <td>بالبحث المباشر في موقع “وزارة الصحة والعمل وال...</td>\n",
       "    </tr>\n",
       "    <tr>\n",
       "      <th>freq</th>\n",
       "      <td>1</td>\n",
       "      <td>3115</td>\n",
       "      <td>336</td>\n",
       "      <td>5721</td>\n",
       "      <td>22</td>\n",
       "      <td>11</td>\n",
       "      <td>1</td>\n",
       "      <td>11</td>\n",
       "      <td>1</td>\n",
       "    </tr>\n",
       "  </tbody>\n",
       "</table>\n",
       "</div>"
      ],
      "text/plain": [
       "                                                    Title Label  Topic  \\\n",
       "count                                                5734  5735    938   \n",
       "unique                                               5734     2     10   \n",
       "top     54 عاما في القضاء.. نهاية حزينة لمعركة مقدسي ح...  fake  sport   \n",
       "freq                                                    1  3115    336   \n",
       "\n",
       "       Origine   Article_date Article_content  \\\n",
       "count     5735           5568            5735   \n",
       "unique       2           2927            5717   \n",
       "top        df1  May. 19, 2021     ['الإدعاء']   \n",
       "freq      5721             22              11   \n",
       "\n",
       "                                       Article_correction  \\\n",
       "count                                                2225   \n",
       "unique                                               2225   \n",
       "top     \\nبالبحث المباشر في موقع “وزارة الصحة والعمل و...   \n",
       "freq                                                    1   \n",
       "\n",
       "       Article_content_cleaned  \\\n",
       "count                     5735   \n",
       "unique                    5717   \n",
       "top                ['الإدعاء']   \n",
       "freq                        11   \n",
       "\n",
       "                               Article_correction_cleaned  \n",
       "count                                                2225  \n",
       "unique                                               2225  \n",
       "top     بالبحث المباشر في موقع “وزارة الصحة والعمل وال...  \n",
       "freq                                                    1  "
      ]
     },
     "execution_count": 15,
     "metadata": {},
     "output_type": "execute_result"
    }
   ],
   "source": [
    "df2.describe()"
   ]
  },
  {
   "cell_type": "code",
   "execution_count": 16,
   "metadata": {},
   "outputs": [],
   "source": [
    "df2.drop_duplicates(subset=['Title','Article_content'], inplace=True)"
   ]
  },
  {
   "cell_type": "code",
   "execution_count": 17,
   "metadata": {},
   "outputs": [
    {
     "data": {
      "text/html": [
       "<div>\n",
       "<style scoped>\n",
       "    .dataframe tbody tr th:only-of-type {\n",
       "        vertical-align: middle;\n",
       "    }\n",
       "\n",
       "    .dataframe tbody tr th {\n",
       "        vertical-align: top;\n",
       "    }\n",
       "\n",
       "    .dataframe thead th {\n",
       "        text-align: right;\n",
       "    }\n",
       "</style>\n",
       "<table border=\"1\" class=\"dataframe\">\n",
       "  <thead>\n",
       "    <tr style=\"text-align: right;\">\n",
       "      <th></th>\n",
       "      <th>Title</th>\n",
       "      <th>Label</th>\n",
       "      <th>Topic</th>\n",
       "      <th>Origine</th>\n",
       "      <th>Article_date</th>\n",
       "      <th>Article_content</th>\n",
       "      <th>Article_correction</th>\n",
       "      <th>Article_content_cleaned</th>\n",
       "      <th>Article_correction_cleaned</th>\n",
       "    </tr>\n",
       "  </thead>\n",
       "  <tbody>\n",
       "    <tr>\n",
       "      <th>count</th>\n",
       "      <td>5734</td>\n",
       "      <td>5735</td>\n",
       "      <td>938</td>\n",
       "      <td>5735</td>\n",
       "      <td>5568</td>\n",
       "      <td>5735</td>\n",
       "      <td>2225</td>\n",
       "      <td>5735</td>\n",
       "      <td>2225</td>\n",
       "    </tr>\n",
       "    <tr>\n",
       "      <th>unique</th>\n",
       "      <td>5734</td>\n",
       "      <td>2</td>\n",
       "      <td>10</td>\n",
       "      <td>2</td>\n",
       "      <td>2927</td>\n",
       "      <td>5717</td>\n",
       "      <td>2225</td>\n",
       "      <td>5717</td>\n",
       "      <td>2225</td>\n",
       "    </tr>\n",
       "    <tr>\n",
       "      <th>top</th>\n",
       "      <td>54 عاما في القضاء.. نهاية حزينة لمعركة مقدسي ح...</td>\n",
       "      <td>fake</td>\n",
       "      <td>sport</td>\n",
       "      <td>df1</td>\n",
       "      <td>May. 19, 2021</td>\n",
       "      <td>['الإدعاء']</td>\n",
       "      <td>\\nبالبحث المباشر في موقع “وزارة الصحة والعمل و...</td>\n",
       "      <td>['الإدعاء']</td>\n",
       "      <td>بالبحث المباشر في موقع “وزارة الصحة والعمل وال...</td>\n",
       "    </tr>\n",
       "    <tr>\n",
       "      <th>freq</th>\n",
       "      <td>1</td>\n",
       "      <td>3115</td>\n",
       "      <td>336</td>\n",
       "      <td>5721</td>\n",
       "      <td>22</td>\n",
       "      <td>11</td>\n",
       "      <td>1</td>\n",
       "      <td>11</td>\n",
       "      <td>1</td>\n",
       "    </tr>\n",
       "  </tbody>\n",
       "</table>\n",
       "</div>"
      ],
      "text/plain": [
       "                                                    Title Label  Topic  \\\n",
       "count                                                5734  5735    938   \n",
       "unique                                               5734     2     10   \n",
       "top     54 عاما في القضاء.. نهاية حزينة لمعركة مقدسي ح...  fake  sport   \n",
       "freq                                                    1  3115    336   \n",
       "\n",
       "       Origine   Article_date Article_content  \\\n",
       "count     5735           5568            5735   \n",
       "unique       2           2927            5717   \n",
       "top        df1  May. 19, 2021     ['الإدعاء']   \n",
       "freq      5721             22              11   \n",
       "\n",
       "                                       Article_correction  \\\n",
       "count                                                2225   \n",
       "unique                                               2225   \n",
       "top     \\nبالبحث المباشر في موقع “وزارة الصحة والعمل و...   \n",
       "freq                                                    1   \n",
       "\n",
       "       Article_content_cleaned  \\\n",
       "count                     5735   \n",
       "unique                    5717   \n",
       "top                ['الإدعاء']   \n",
       "freq                        11   \n",
       "\n",
       "                               Article_correction_cleaned  \n",
       "count                                                2225  \n",
       "unique                                               2225  \n",
       "top     بالبحث المباشر في موقع “وزارة الصحة والعمل وال...  \n",
       "freq                                                    1  "
      ]
     },
     "execution_count": 17,
     "metadata": {},
     "output_type": "execute_result"
    }
   ],
   "source": [
    "df2.describe()"
   ]
  },
  {
   "cell_type": "markdown",
   "metadata": {},
   "source": [
    "* MERGING THE DATAFRAMES"
   ]
  },
  {
   "cell_type": "code",
   "execution_count": 18,
   "metadata": {},
   "outputs": [],
   "source": [
    "# Merge the dataframes on their titles\n",
    "merged_df = pd.merge(df1, df2, left_on='title', right_on='Title', how='left')\n",
    "\n",
    "# Select the required columns\n",
    "final_df = merged_df[['cleaned_text', 'label', 'Article_correction_cleaned']]\n",
    "\n",
    "# Rename the columns for consistency\n",
    "final_df.columns = ['text', 'label', 'correction']"
   ]
  },
  {
   "cell_type": "code",
   "execution_count": 19,
   "metadata": {},
   "outputs": [
    {
     "data": {
      "text/html": [
       "<div>\n",
       "<style scoped>\n",
       "    .dataframe tbody tr th:only-of-type {\n",
       "        vertical-align: middle;\n",
       "    }\n",
       "\n",
       "    .dataframe tbody tr th {\n",
       "        vertical-align: top;\n",
       "    }\n",
       "\n",
       "    .dataframe thead th {\n",
       "        text-align: right;\n",
       "    }\n",
       "</style>\n",
       "<table border=\"1\" class=\"dataframe\">\n",
       "  <thead>\n",
       "    <tr style=\"text-align: right;\">\n",
       "      <th></th>\n",
       "      <th>text</th>\n",
       "      <th>label</th>\n",
       "      <th>correction</th>\n",
       "    </tr>\n",
       "  </thead>\n",
       "  <tbody>\n",
       "    <tr>\n",
       "      <th>0</th>\n",
       "      <td>يخوض المنتخب الوطني المغربي لكرة القدم لأقل 20...</td>\n",
       "      <td>real</td>\n",
       "      <td>NaN</td>\n",
       "    </tr>\n",
       "    <tr>\n",
       "      <th>1</th>\n",
       "      <td>ترأس عبد القادر اعمارة وزير التجهيز النقل اللو...</td>\n",
       "      <td>real</td>\n",
       "      <td>NaN</td>\n",
       "    </tr>\n",
       "    <tr>\n",
       "      <th>2</th>\n",
       "      <td>أكد النجم الارجنتيني ليونيل ميسي فوز فريقه برش...</td>\n",
       "      <td>real</td>\n",
       "      <td>NaN</td>\n",
       "    </tr>\n",
       "    <tr>\n",
       "      <th>3</th>\n",
       "      <td>أكد الدبلوماسي المغربي بإسبانيا عبد الخالق أطر...</td>\n",
       "      <td>real</td>\n",
       "      <td>NaN</td>\n",
       "    </tr>\n",
       "    <tr>\n",
       "      <th>4</th>\n",
       "      <td>أعلنت شركتا سانوفي الفرنسية العملاقة تصنيع الأ...</td>\n",
       "      <td>real</td>\n",
       "      <td>NaN</td>\n",
       "    </tr>\n",
       "  </tbody>\n",
       "</table>\n",
       "</div>"
      ],
      "text/plain": [
       "                                                text label correction\n",
       "0  يخوض المنتخب الوطني المغربي لكرة القدم لأقل 20...  real        NaN\n",
       "1  ترأس عبد القادر اعمارة وزير التجهيز النقل اللو...  real        NaN\n",
       "2  أكد النجم الارجنتيني ليونيل ميسي فوز فريقه برش...  real        NaN\n",
       "3  أكد الدبلوماسي المغربي بإسبانيا عبد الخالق أطر...  real        NaN\n",
       "4  أعلنت شركتا سانوفي الفرنسية العملاقة تصنيع الأ...  real        NaN"
      ]
     },
     "execution_count": 19,
     "metadata": {},
     "output_type": "execute_result"
    }
   ],
   "source": [
    "# Display the final dataframe\n",
    "final_df.head()"
   ]
  },
  {
   "cell_type": "code",
   "execution_count": 20,
   "metadata": {},
   "outputs": [],
   "source": [
    "final_df_shuffled = final_df.sample(frac=1).reset_index(drop=True)"
   ]
  },
  {
   "cell_type": "code",
   "execution_count": 21,
   "metadata": {},
   "outputs": [
    {
     "data": {
      "text/html": [
       "<div>\n",
       "<style scoped>\n",
       "    .dataframe tbody tr th:only-of-type {\n",
       "        vertical-align: middle;\n",
       "    }\n",
       "\n",
       "    .dataframe tbody tr th {\n",
       "        vertical-align: top;\n",
       "    }\n",
       "\n",
       "    .dataframe thead th {\n",
       "        text-align: right;\n",
       "    }\n",
       "</style>\n",
       "<table border=\"1\" class=\"dataframe\">\n",
       "  <thead>\n",
       "    <tr style=\"text-align: right;\">\n",
       "      <th></th>\n",
       "      <th>text</th>\n",
       "      <th>label</th>\n",
       "      <th>correction</th>\n",
       "    </tr>\n",
       "  </thead>\n",
       "  <tbody>\n",
       "    <tr>\n",
       "      <th>0</th>\n",
       "      <td>ارتفع القتلى جراء سقوط قذائف صاروخية أطلقتها ق...</td>\n",
       "      <td>fake</td>\n",
       "      <td>NaN</td>\n",
       "    </tr>\n",
       "    <tr>\n",
       "      <th>1</th>\n",
       "      <td>تمكن فريق الزمالك تحقيق فوزا بهدفين رد مولودية...</td>\n",
       "      <td>fake</td>\n",
       "      <td>NaN</td>\n",
       "    </tr>\n",
       "    <tr>\n",
       "      <th>2</th>\n",
       "      <td>سمير الوافي صفحته بفايسبوك مرة أخرى تستهدفني ع...</td>\n",
       "      <td>real</td>\n",
       "      <td>NaN</td>\n",
       "    </tr>\n",
       "    <tr>\n",
       "      <th>3</th>\n",
       "      <td>أعلن رئيس كتلة حزب قلب تونس بمجلس نواب الشعب أ...</td>\n",
       "      <td>real</td>\n",
       "      <td>NaN</td>\n",
       "    </tr>\n",
       "    <tr>\n",
       "      <th>4</th>\n",
       "      <td>علمت الراي مصادر امنية يمنع منعا نهائيا خروج ا...</td>\n",
       "      <td>fake</td>\n",
       "      <td>NaN</td>\n",
       "    </tr>\n",
       "  </tbody>\n",
       "</table>\n",
       "</div>"
      ],
      "text/plain": [
       "                                                text label correction\n",
       "0  ارتفع القتلى جراء سقوط قذائف صاروخية أطلقتها ق...  fake        NaN\n",
       "1  تمكن فريق الزمالك تحقيق فوزا بهدفين رد مولودية...  fake        NaN\n",
       "2  سمير الوافي صفحته بفايسبوك مرة أخرى تستهدفني ع...  real        NaN\n",
       "3  أعلن رئيس كتلة حزب قلب تونس بمجلس نواب الشعب أ...  real        NaN\n",
       "4  علمت الراي مصادر امنية يمنع منعا نهائيا خروج ا...  fake        NaN"
      ]
     },
     "execution_count": 21,
     "metadata": {},
     "output_type": "execute_result"
    }
   ],
   "source": [
    "final_df_shuffled.head()"
   ]
  },
  {
   "cell_type": "code",
   "execution_count": 22,
   "metadata": {},
   "outputs": [],
   "source": [
    "# 'label' column contains the labels in the DataFrame\n",
    "final_df_shuffled['label'] = final_df_shuffled['label'].map({'fake': 0, 'real': 1})"
   ]
  },
  {
   "cell_type": "code",
   "execution_count": 23,
   "metadata": {},
   "outputs": [],
   "source": [
    "# Replace empty strings with NaN\n",
    "final_df_shuffled['label'].replace('', np.nan, inplace=True)\n",
    "\n",
    "# Drop rows with NaN in the 'label' column\n",
    "final_df_shuffled.dropna(subset=['label'], inplace=True)"
   ]
  },
  {
   "cell_type": "code",
   "execution_count": 24,
   "metadata": {},
   "outputs": [],
   "source": [
    "final_df_shuffled.drop(columns=['correction'], inplace=True)\n"
   ]
  },
  {
   "cell_type": "code",
   "execution_count": 25,
   "metadata": {},
   "outputs": [
    {
     "data": {
      "text/html": [
       "<div>\n",
       "<style scoped>\n",
       "    .dataframe tbody tr th:only-of-type {\n",
       "        vertical-align: middle;\n",
       "    }\n",
       "\n",
       "    .dataframe tbody tr th {\n",
       "        vertical-align: top;\n",
       "    }\n",
       "\n",
       "    .dataframe thead th {\n",
       "        text-align: right;\n",
       "    }\n",
       "</style>\n",
       "<table border=\"1\" class=\"dataframe\">\n",
       "  <thead>\n",
       "    <tr style=\"text-align: right;\">\n",
       "      <th></th>\n",
       "      <th>text</th>\n",
       "      <th>label</th>\n",
       "    </tr>\n",
       "  </thead>\n",
       "  <tbody>\n",
       "    <tr>\n",
       "      <th>0</th>\n",
       "      <td>ارتفع القتلى جراء سقوط قذائف صاروخية أطلقتها ق...</td>\n",
       "      <td>0</td>\n",
       "    </tr>\n",
       "    <tr>\n",
       "      <th>1</th>\n",
       "      <td>تمكن فريق الزمالك تحقيق فوزا بهدفين رد مولودية...</td>\n",
       "      <td>0</td>\n",
       "    </tr>\n",
       "    <tr>\n",
       "      <th>2</th>\n",
       "      <td>سمير الوافي صفحته بفايسبوك مرة أخرى تستهدفني ع...</td>\n",
       "      <td>1</td>\n",
       "    </tr>\n",
       "    <tr>\n",
       "      <th>3</th>\n",
       "      <td>أعلن رئيس كتلة حزب قلب تونس بمجلس نواب الشعب أ...</td>\n",
       "      <td>1</td>\n",
       "    </tr>\n",
       "    <tr>\n",
       "      <th>4</th>\n",
       "      <td>علمت الراي مصادر امنية يمنع منعا نهائيا خروج ا...</td>\n",
       "      <td>0</td>\n",
       "    </tr>\n",
       "  </tbody>\n",
       "</table>\n",
       "</div>"
      ],
      "text/plain": [
       "                                                text  label\n",
       "0  ارتفع القتلى جراء سقوط قذائف صاروخية أطلقتها ق...      0\n",
       "1  تمكن فريق الزمالك تحقيق فوزا بهدفين رد مولودية...      0\n",
       "2  سمير الوافي صفحته بفايسبوك مرة أخرى تستهدفني ع...      1\n",
       "3  أعلن رئيس كتلة حزب قلب تونس بمجلس نواب الشعب أ...      1\n",
       "4  علمت الراي مصادر امنية يمنع منعا نهائيا خروج ا...      0"
      ]
     },
     "execution_count": 25,
     "metadata": {},
     "output_type": "execute_result"
    }
   ],
   "source": [
    "final_df_shuffled.head()"
   ]
  },
  {
   "cell_type": "code",
   "execution_count": 26,
   "metadata": {},
   "outputs": [],
   "source": [
    "final_df_shuffled = final_df_shuffled.iloc[:10000]"
   ]
  },
  {
   "cell_type": "markdown",
   "metadata": {},
   "source": [
    "# MAKING THE BI-LSTM MODEL"
   ]
  },
  {
   "cell_type": "code",
   "execution_count": 27,
   "metadata": {},
   "outputs": [],
   "source": [
    "# Data Preparation\n",
    "X = merged_df['text']\n",
    "y = merged_df['label']"
   ]
  },
  {
   "cell_type": "code",
   "execution_count": 28,
   "metadata": {},
   "outputs": [
    {
     "data": {
      "text/plain": [
       "\"\\n# Remove Arabic stopwords\\nX = X.apply(lambda text: ' '.join([word for word in text.split() if word not in stop_words]))\\n\""
      ]
     },
     "execution_count": 28,
     "metadata": {},
     "output_type": "execute_result"
    }
   ],
   "source": [
    "\"\"\"\n",
    "# Remove Arabic stopwords\n",
    "X = X.apply(lambda text: ' '.join([word for word in text.split() if word not in stop_words]))\n",
    "\"\"\""
   ]
  },
  {
   "cell_type": "code",
   "execution_count": 29,
   "metadata": {},
   "outputs": [],
   "source": [
    "# Use LabelEncoder to convert labels to numerical format\n",
    "label_encoder = LabelEncoder()\n",
    "y_encoded = label_encoder.fit_transform(y)"
   ]
  },
  {
   "cell_type": "code",
   "execution_count": 30,
   "metadata": {},
   "outputs": [],
   "source": [
    "# Split into training and testing sets\n",
    "X_train, X_test, y_train, y_test = train_test_split(X, y_encoded, test_size=0.2, random_state=42)"
   ]
  },
  {
   "cell_type": "code",
   "execution_count": 31,
   "metadata": {},
   "outputs": [],
   "source": [
    "# Tokenization and Padding\n",
    "max_vocab = 10000\n",
    "tokenizer = Tokenizer(num_words=max_vocab)\n",
    "tokenizer.fit_on_texts(X_train)"
   ]
  },
  {
   "cell_type": "code",
   "execution_count": 32,
   "metadata": {},
   "outputs": [
    {
     "ename": "KeyboardInterrupt",
     "evalue": "",
     "output_type": "error",
     "traceback": [
      "\u001b[1;31m---------------------------------------------------------------------------\u001b[0m",
      "\u001b[1;31mKeyboardInterrupt\u001b[0m                         Traceback (most recent call last)",
      "Cell \u001b[1;32mIn[32], line 1\u001b[0m\n\u001b[1;32m----> 1\u001b[0m X_train_sequences \u001b[38;5;241m=\u001b[39m \u001b[43mtokenizer\u001b[49m\u001b[38;5;241;43m.\u001b[39;49m\u001b[43mtexts_to_sequences\u001b[49m\u001b[43m(\u001b[49m\u001b[43mX_train\u001b[49m\u001b[43m)\u001b[49m\n\u001b[0;32m      2\u001b[0m X_test_sequences \u001b[38;5;241m=\u001b[39m tokenizer\u001b[38;5;241m.\u001b[39mtexts_to_sequences(X_test)\n",
      "File \u001b[1;32m~\\AppData\\Local\\Packages\\PythonSoftwareFoundation.Python.3.11_qbz5n2kfra8p0\\LocalCache\\local-packages\\Python311\\site-packages\\keras\\src\\preprocessing\\text.py:357\u001b[0m, in \u001b[0;36mTokenizer.texts_to_sequences\u001b[1;34m(self, texts)\u001b[0m\n\u001b[0;32m    345\u001b[0m \u001b[38;5;28;01mdef\u001b[39;00m \u001b[38;5;21mtexts_to_sequences\u001b[39m(\u001b[38;5;28mself\u001b[39m, texts):\n\u001b[0;32m    346\u001b[0m \u001b[38;5;250m    \u001b[39m\u001b[38;5;124;03m\"\"\"Transforms each text in texts to a sequence of integers.\u001b[39;00m\n\u001b[0;32m    347\u001b[0m \n\u001b[0;32m    348\u001b[0m \u001b[38;5;124;03m    Only top `num_words-1` most frequent words will be taken into account.\u001b[39;00m\n\u001b[1;32m   (...)\u001b[0m\n\u001b[0;32m    355\u001b[0m \u001b[38;5;124;03m        A list of sequences.\u001b[39;00m\n\u001b[0;32m    356\u001b[0m \u001b[38;5;124;03m    \"\"\"\u001b[39;00m\n\u001b[1;32m--> 357\u001b[0m     \u001b[38;5;28;01mreturn\u001b[39;00m \u001b[38;5;28;43mlist\u001b[39;49m\u001b[43m(\u001b[49m\u001b[38;5;28;43mself\u001b[39;49m\u001b[38;5;241;43m.\u001b[39;49m\u001b[43mtexts_to_sequences_generator\u001b[49m\u001b[43m(\u001b[49m\u001b[43mtexts\u001b[49m\u001b[43m)\u001b[49m\u001b[43m)\u001b[49m\n",
      "File \u001b[1;32m~\\AppData\\Local\\Packages\\PythonSoftwareFoundation.Python.3.11_qbz5n2kfra8p0\\LocalCache\\local-packages\\Python311\\site-packages\\keras\\src\\preprocessing\\text.py:386\u001b[0m, in \u001b[0;36mTokenizer.texts_to_sequences_generator\u001b[1;34m(self, texts)\u001b[0m\n\u001b[0;32m    384\u001b[0m \u001b[38;5;28;01melse\u001b[39;00m:\n\u001b[0;32m    385\u001b[0m     \u001b[38;5;28;01mif\u001b[39;00m \u001b[38;5;28mself\u001b[39m\u001b[38;5;241m.\u001b[39manalyzer \u001b[38;5;129;01mis\u001b[39;00m \u001b[38;5;28;01mNone\u001b[39;00m:\n\u001b[1;32m--> 386\u001b[0m         seq \u001b[38;5;241m=\u001b[39m \u001b[43mtext_to_word_sequence\u001b[49m\u001b[43m(\u001b[49m\n\u001b[0;32m    387\u001b[0m \u001b[43m            \u001b[49m\u001b[43mtext\u001b[49m\u001b[43m,\u001b[49m\n\u001b[0;32m    388\u001b[0m \u001b[43m            \u001b[49m\u001b[43mfilters\u001b[49m\u001b[38;5;241;43m=\u001b[39;49m\u001b[38;5;28;43mself\u001b[39;49m\u001b[38;5;241;43m.\u001b[39;49m\u001b[43mfilters\u001b[49m\u001b[43m,\u001b[49m\n\u001b[0;32m    389\u001b[0m \u001b[43m            \u001b[49m\u001b[43mlower\u001b[49m\u001b[38;5;241;43m=\u001b[39;49m\u001b[38;5;28;43mself\u001b[39;49m\u001b[38;5;241;43m.\u001b[39;49m\u001b[43mlower\u001b[49m\u001b[43m,\u001b[49m\n\u001b[0;32m    390\u001b[0m \u001b[43m            \u001b[49m\u001b[43msplit\u001b[49m\u001b[38;5;241;43m=\u001b[39;49m\u001b[38;5;28;43mself\u001b[39;49m\u001b[38;5;241;43m.\u001b[39;49m\u001b[43msplit\u001b[49m\u001b[43m,\u001b[49m\n\u001b[0;32m    391\u001b[0m \u001b[43m        \u001b[49m\u001b[43m)\u001b[49m\n\u001b[0;32m    392\u001b[0m     \u001b[38;5;28;01melse\u001b[39;00m:\n\u001b[0;32m    393\u001b[0m         seq \u001b[38;5;241m=\u001b[39m \u001b[38;5;28mself\u001b[39m\u001b[38;5;241m.\u001b[39manalyzer(text)\n",
      "File \u001b[1;32m~\\AppData\\Local\\Packages\\PythonSoftwareFoundation.Python.3.11_qbz5n2kfra8p0\\LocalCache\\local-packages\\Python311\\site-packages\\keras\\src\\preprocessing\\text.py:80\u001b[0m, in \u001b[0;36mtext_to_word_sequence\u001b[1;34m(input_text, filters, lower, split)\u001b[0m\n\u001b[0;32m     77\u001b[0m translate_map \u001b[38;5;241m=\u001b[39m \u001b[38;5;28mstr\u001b[39m\u001b[38;5;241m.\u001b[39mmaketrans(translate_dict)\n\u001b[0;32m     78\u001b[0m input_text \u001b[38;5;241m=\u001b[39m input_text\u001b[38;5;241m.\u001b[39mtranslate(translate_map)\n\u001b[1;32m---> 80\u001b[0m seq \u001b[38;5;241m=\u001b[39m input_text\u001b[38;5;241m.\u001b[39msplit(split)\n\u001b[0;32m     81\u001b[0m \u001b[38;5;28;01mreturn\u001b[39;00m [i \u001b[38;5;28;01mfor\u001b[39;00m i \u001b[38;5;129;01min\u001b[39;00m seq \u001b[38;5;28;01mif\u001b[39;00m i]\n",
      "\u001b[1;31mKeyboardInterrupt\u001b[0m: "
     ]
    }
   ],
   "source": [
    "X_train_sequences = tokenizer.texts_to_sequences(X_train)\n",
    "X_test_sequences = tokenizer.texts_to_sequences(X_test)"
   ]
  },
  {
   "cell_type": "code",
   "execution_count": null,
   "metadata": {},
   "outputs": [],
   "source": [
    "max_sequence_length = 128   # Set an appropriate value\n",
    "X_train_padded = pad_sequences(X_train_sequences, maxlen=max_sequence_length, padding='post')\n",
    "X_test_padded = pad_sequences(X_test_sequences, maxlen=max_sequence_length, padding='post')"
   ]
  },
  {
   "cell_type": "code",
   "execution_count": null,
   "metadata": {},
   "outputs": [],
   "source": [
    "# LSTM Model\n",
    "model = Sequential()\n",
    "model.add(Embedding(input_dim=len(tokenizer.word_index) + 1, output_dim=100, input_length=max_sequence_length))\n",
    "model.add(SpatialDropout1D(0.2))  # Dropout layer for regularization\n",
    "model.add(LSTM(units=64, return_sequences=True))\n",
    "model.add(LSTM(units=64))\n",
    "model.add(Dense(units=len(np.unique(y_encoded)), activation='softmax'))"
   ]
  },
  {
   "cell_type": "code",
   "execution_count": null,
   "metadata": {},
   "outputs": [],
   "source": [
    "# Compile the Model\n",
    "model.compile(loss='sparse_categorical_crossentropy',\n",
    "              optimizer=tf.keras.optimizers.Adam(1e-4),\n",
    "              metrics=['accuracy'])"
   ]
  },
  {
   "cell_type": "code",
   "execution_count": null,
   "metadata": {},
   "outputs": [
    {
     "name": "stdout",
     "output_type": "stream",
     "text": [
      "Model: \"sequential_1\"\n",
      "_________________________________________________________________\n",
      " Layer (type)                Output Shape              Param #   \n",
      "=================================================================\n",
      " embedding_1 (Embedding)     (None, 128, 100)          134204900 \n",
      "                                                                 \n",
      " spatial_dropout1d_1 (Spati  (None, 128, 100)          0         \n",
      " alDropout1D)                                                    \n",
      "                                                                 \n",
      " lstm_2 (LSTM)               (None, 128, 64)           42240     \n",
      "                                                                 \n",
      " lstm_3 (LSTM)               (None, 64)                33024     \n",
      "                                                                 \n",
      " dense_1 (Dense)             (None, 2)                 130       \n",
      "                                                                 \n",
      "=================================================================\n",
      "Total params: 134280294 (512.24 MB)\n",
      "Trainable params: 134280294 (512.24 MB)\n",
      "Non-trainable params: 0 (0.00 Byte)\n",
      "_________________________________________________________________\n"
     ]
    }
   ],
   "source": [
    "# Print the Model Summary\n",
    "model.summary()"
   ]
  },
  {
   "cell_type": "code",
   "execution_count": null,
   "metadata": {},
   "outputs": [
    {
     "name": "stdout",
     "output_type": "stream",
     "text": [
      "Epoch 1/10\n",
      "  58/7471 [..............................] - ETA: 2:54:51 - loss: 0.6922 - accuracy: 0.5399"
     ]
    }
   ],
   "source": [
    "# Train the Model\n",
    "early_stop = tf.keras.callbacks.EarlyStopping(monitor='val_loss', patience=2, restore_best_weights=True)\n",
    "\n",
    "model.fit(X_train_padded, y_train, epochs=10, validation_split=0.2, batch_size=256, shuffle=True, callbacks=[early_stop]) #batch_size=64"
   ]
  },
  {
   "cell_type": "code",
   "execution_count": null,
   "metadata": {},
   "outputs": [],
   "source": [
    "# Evaluate the Model\n",
    "y_pred_probs = model.predict(X_test_padded)\n",
    "y_pred = np.argmax(y_pred_probs, axis=1)\n",
    "\n",
    "accuracy = accuracy_score(y_test, y_pred)\n",
    "print(f\"Test Accuracy: {accuracy:.4f}\")"
   ]
  },
  {
   "cell_type": "code",
   "execution_count": null,
   "metadata": {},
   "outputs": [],
   "source": [
    "# Evaluate other metrics\n",
    "print(classification_report(y_test, y_pred))"
   ]
  },
  {
   "cell_type": "code",
   "execution_count": null,
   "metadata": {},
   "outputs": [],
   "source": [
    "# Confusion Matrix\n",
    "conf_matrix = confusion_matrix(y_test, y_pred)\n",
    "\n",
    "# Plot Confusion Matrix\n",
    "plt.figure(figsize=(8, 6))\n",
    "sns.heatmap(conf_matrix, annot=True, fmt='d', cmap='Blues', xticklabels=label_encoder.classes_, yticklabels=label_encoder.classes_)\n",
    "plt.xlabel('Predicted Labels')\n",
    "plt.ylabel('True Labels')\n",
    "plt.title('Confusion Matrix')\n",
    "plt.show()"
   ]
  }
 ],
 "metadata": {
  "kernelspec": {
   "display_name": "Python 3",
   "language": "python",
   "name": "python3"
  },
  "language_info": {
   "codemirror_mode": {
    "name": "ipython",
    "version": 3
   },
   "file_extension": ".py",
   "mimetype": "text/x-python",
   "name": "python",
   "nbconvert_exporter": "python",
   "pygments_lexer": "ipython3",
   "version": "3.11.9"
  }
 },
 "nbformat": 4,
 "nbformat_minor": 2
}
